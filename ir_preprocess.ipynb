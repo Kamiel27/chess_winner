{
 "cells": [
  {
   "cell_type": "code",
   "execution_count": 1,
   "id": "5604390d-3c3f-415a-a70f-b317d1b623a3",
   "metadata": {},
   "outputs": [],
   "source": [
    "import json"
   ]
  },
  {
   "cell_type": "markdown",
   "id": "1d067e6a-4696-4092-bc3d-83d5f5b61a29",
   "metadata": {},
   "source": [
    "# Annotations"
   ]
  },
  {
   "cell_type": "markdown",
   "id": "912ae494-efdf-4965-b1b2-04b3d64e2f71",
   "metadata": {},
   "source": [
    "In this part, we must understand how the images are labelled to be able to preprocess it."
   ]
  },
  {
   "cell_type": "code",
   "execution_count": 2,
   "id": "bd9c923e-06b3-4153-80ae-a7da8b852e16",
   "metadata": {},
   "outputs": [],
   "source": [
    "annot_file = open(\"raw_data/chessred2k/annotations.json\")\n",
    "annot = json.load(annot_file)"
   ]
  },
  {
   "cell_type": "code",
   "execution_count": 3,
   "id": "310be3f4-37e0-4aa2-812f-0307e1b14670",
   "metadata": {},
   "outputs": [
    {
     "data": {
      "text/plain": [
       "dict_keys(['info', 'images', 'annotations', 'categories', 'splits'])"
      ]
     },
     "execution_count": 3,
     "metadata": {},
     "output_type": "execute_result"
    }
   ],
   "source": [
    "annot.keys()"
   ]
  },
  {
   "cell_type": "code",
   "execution_count": 4,
   "id": "87a6882c-66b9-48af-9105-21d0b81a826a",
   "metadata": {},
   "outputs": [
    {
     "data": {
      "text/plain": [
       "[dict, list, dict, list, dict]"
      ]
     },
     "execution_count": 4,
     "metadata": {},
     "output_type": "execute_result"
    }
   ],
   "source": [
    "[type(annot[key]) for key in annot.keys()]"
   ]
  },
  {
   "cell_type": "markdown",
   "id": "69626b29-a099-4ffd-9d57-59b8a55ad29d",
   "metadata": {},
   "source": [
    "## Info values"
   ]
  },
  {
   "cell_type": "code",
   "execution_count": 5,
   "id": "ee186fe4-f1a0-4abd-974b-1b09dc60b611",
   "metadata": {},
   "outputs": [
    {
     "data": {
      "text/plain": [
       "dict_keys(['description', 'version', 'year', 'date_created', 'author'])"
      ]
     },
     "execution_count": 5,
     "metadata": {},
     "output_type": "execute_result"
    }
   ],
   "source": [
    "annot['info'].keys()"
   ]
  },
  {
   "cell_type": "code",
   "execution_count": 6,
   "id": "21b5fec5-e4ea-4a8d-abbb-69d2db5fde51",
   "metadata": {},
   "outputs": [
    {
     "data": {
      "text/plain": [
       "[str, str, int, str, str]"
      ]
     },
     "execution_count": 6,
     "metadata": {},
     "output_type": "execute_result"
    }
   ],
   "source": [
    "[type(annot['info'][key]) for key in annot['info'].keys()]"
   ]
  },
  {
   "cell_type": "code",
   "execution_count": 7,
   "id": "c96f274c-1bfd-4df7-a8fc-f173e973dbfb",
   "metadata": {},
   "outputs": [
    {
     "name": "stdout",
     "output_type": "stream",
     "text": [
      "Chess Recognition Dataset (ChessReD)\n",
      "1.0\n",
      "2023\n",
      "26/08/2023\n",
      "Athanasios Masouris\n"
     ]
    }
   ],
   "source": [
    "for val in annot['info'].values():\n",
    "    print(val)"
   ]
  },
  {
   "cell_type": "markdown",
   "id": "e1f1bc1e-86a2-4fe5-ba0b-897bdebd3f59",
   "metadata": {},
   "source": [
    "## Images values"
   ]
  },
  {
   "cell_type": "code",
   "execution_count": 8,
   "id": "2f143621-16fc-4628-8c3c-e8c6166caaeb",
   "metadata": {},
   "outputs": [
    {
     "data": {
      "text/plain": [
       "103"
      ]
     },
     "execution_count": 8,
     "metadata": {},
     "output_type": "execute_result"
    }
   ],
   "source": [
    "first_game = [image for image in annot['images'] if image['game_id'] == 0]\n",
    "len(first_game)"
   ]
  },
  {
   "cell_type": "code",
   "execution_count": 9,
   "id": "9d5c3b8b-a6d2-4626-853c-98fcbd0444e8",
   "metadata": {},
   "outputs": [
    {
     "data": {
      "text/plain": [
       "{'file_name': 'G000_IMG000.jpg',\n",
       " 'path': 'images/0/G000_IMG000.jpg',\n",
       " 'camera': 'Huawei P40 pro',\n",
       " 'height': 3072,\n",
       " 'width': 3072,\n",
       " 'game_id': 0,\n",
       " 'move_id': 0,\n",
       " 'id': 0}"
      ]
     },
     "execution_count": 9,
     "metadata": {},
     "output_type": "execute_result"
    }
   ],
   "source": [
    "first_game[0]"
   ]
  },
  {
   "cell_type": "code",
   "execution_count": 10,
   "id": "88ef4ddc-bd6b-461e-aaea-6c9f84fbdf4d",
   "metadata": {
    "scrolled": true
   },
   "outputs": [
    {
     "data": {
      "text/plain": [
       "{'file_name': 'G000_IMG102.jpg',\n",
       " 'path': 'images/0/G000_IMG102.jpg',\n",
       " 'camera': 'Huawei P40 pro',\n",
       " 'height': 3072,\n",
       " 'width': 3072,\n",
       " 'game_id': 0,\n",
       " 'move_id': 102,\n",
       " 'id': 102}"
      ]
     },
     "execution_count": 10,
     "metadata": {},
     "output_type": "execute_result"
    }
   ],
   "source": [
    "first_game[102]"
   ]
  },
  {
   "cell_type": "code",
   "execution_count": 11,
   "id": "0f0d2092-4036-4a7e-8a6a-00f1faa2778f",
   "metadata": {},
   "outputs": [
    {
     "data": {
      "text/plain": [
       "{'file_name': 'G001_IMG000.jpg',\n",
       " 'path': 'images/1/G001_IMG000.jpg',\n",
       " 'camera': 'Huawei P40 pro',\n",
       " 'height': 3072,\n",
       " 'width': 3072,\n",
       " 'game_id': 1,\n",
       " 'move_id': 0,\n",
       " 'id': 103}"
      ]
     },
     "execution_count": 11,
     "metadata": {},
     "output_type": "execute_result"
    }
   ],
   "source": [
    "annot['images'][103]"
   ]
  },
  {
   "cell_type": "markdown",
   "id": "e4708384-56c2-4081-9c8d-d7d400226fd5",
   "metadata": {},
   "source": [
    "Here is the understanding of the image key:\n",
    "- 'file_name' gives obviously the name of the image\n",
    "- 'path' provides the location. will be useful to define preprocessing functions with images as arguments\n",
    "- 'height' and 'width' are quite obvious too.\n",
    "- 'game_id' is associated to the number of the game. Not that useful at first glance\n",
    "- 'move_id' won't be very useful either\n",
    "- 'id' is the position of the image in the whole dataset. To be considered"
   ]
  },
  {
   "cell_type": "markdown",
   "id": "f4cecb17-b63c-4f2c-9913-b3aebe75c39c",
   "metadata": {},
   "source": [
    "## Annotations value"
   ]
  },
  {
   "cell_type": "code",
   "execution_count": 12,
   "id": "6207a088-22ea-4349-a156-204b286c09ea",
   "metadata": {},
   "outputs": [
    {
     "data": {
      "text/plain": [
       "dict_keys(['pieces', 'corners'])"
      ]
     },
     "execution_count": 12,
     "metadata": {},
     "output_type": "execute_result"
    }
   ],
   "source": [
    "annot['annotations'].keys()"
   ]
  },
  {
   "cell_type": "code",
   "execution_count": 13,
   "id": "3527fd4b-ab66-4057-97a8-a4340cd1ad2e",
   "metadata": {},
   "outputs": [
    {
     "data": {
      "text/plain": [
       "[list, list]"
      ]
     },
     "execution_count": 13,
     "metadata": {},
     "output_type": "execute_result"
    }
   ],
   "source": [
    "[type(annot['annotations'][key]) for key in annot['annotations'].keys()]"
   ]
  },
  {
   "cell_type": "code",
   "execution_count": 14,
   "id": "aa160b18-31d0-4c62-99c9-6637bf3f3c8d",
   "metadata": {},
   "outputs": [
    {
     "data": {
      "text/plain": [
       "[223804, 2078]"
      ]
     },
     "execution_count": 14,
     "metadata": {},
     "output_type": "execute_result"
    }
   ],
   "source": [
    "[len(annot['annotations'][key]) for key in annot['annotations'].keys()]"
   ]
  },
  {
   "cell_type": "code",
   "execution_count": 15,
   "id": "9ba913ab-5f64-4467-abb1-4587c95697fe",
   "metadata": {
    "scrolled": true
   },
   "outputs": [
    {
     "data": {
      "text/plain": [
       "{'image_id': 0,\n",
       " 'category_id': 7,\n",
       " 'chessboard_position': 'a8',\n",
       " 'id': 0,\n",
       " 'bbox': [510.34, 963.65, 155.75, 186.14]}"
      ]
     },
     "execution_count": 15,
     "metadata": {},
     "output_type": "execute_result"
    }
   ],
   "source": [
    "annot[\"annotations\"]['pieces'][0]"
   ]
  },
  {
   "cell_type": "code",
   "execution_count": 16,
   "id": "75a0efc3-3a7b-4427-b22c-212fae2c6cd1",
   "metadata": {},
   "outputs": [
    {
     "data": {
      "text/plain": [
       "{'image_id': 0,\n",
       " 'category_id': 8,\n",
       " 'chessboard_position': 'b8',\n",
       " 'id': 1,\n",
       " 'bbox': [692.17, 877.29, 154.48, 211.46]}"
      ]
     },
     "execution_count": 16,
     "metadata": {},
     "output_type": "execute_result"
    }
   ],
   "source": [
    "annot[\"annotations\"]['pieces'][1]"
   ]
  },
  {
   "cell_type": "code",
   "execution_count": 17,
   "id": "99f5fdb5-03ee-4bfc-b4aa-95a38a4df47b",
   "metadata": {},
   "outputs": [
    {
     "data": {
      "text/plain": [
       "{'image_id': 0,\n",
       " 'corners': {'bottom_right': [2610.3, 1560.9],\n",
       "  'top_right': [1772.23, 638.59],\n",
       "  'top_left': [488.7, 1078.7],\n",
       "  'bottom_left': [1063.3, 2304.1]},\n",
       " 'id': 223804}"
      ]
     },
     "execution_count": 17,
     "metadata": {},
     "output_type": "execute_result"
    }
   ],
   "source": [
    "annot[\"annotations\"]['corners'][0]"
   ]
  },
  {
   "cell_type": "code",
   "execution_count": 18,
   "id": "1ad99a6b-7daa-4be7-b523-247a9d851414",
   "metadata": {},
   "outputs": [
    {
     "data": {
      "text/plain": [
       "{'image_id': 1,\n",
       " 'corners': {'top_right': [892.9, 931.7],\n",
       "  'bottom_right': [2376.27, 994.8],\n",
       "  'bottom_left': [2392.7, 2142.33],\n",
       "  'top_left': [429.86, 1982.92]},\n",
       " 'id': 223805}"
      ]
     },
     "execution_count": 18,
     "metadata": {},
     "output_type": "execute_result"
    }
   ],
   "source": [
    "annot[\"annotations\"]['corners'][1]"
   ]
  },
  {
   "cell_type": "markdown",
   "id": "be1dff60-d517-4e9d-a869-24444d8c5347",
   "metadata": {},
   "source": [
    "## Categories value."
   ]
  },
  {
   "cell_type": "code",
   "execution_count": 19,
   "id": "66242cdf-4a12-42e1-abb8-58fe8f274ac3",
   "metadata": {
    "scrolled": true
   },
   "outputs": [
    {
     "data": {
      "text/plain": [
       "[{'id': 0, 'name': 'white-pawn'},\n",
       " {'id': 1, 'name': 'white-rook'},\n",
       " {'id': 2, 'name': 'white-knight'},\n",
       " {'id': 3, 'name': 'white-bishop'},\n",
       " {'id': 4, 'name': 'white-queen'},\n",
       " {'id': 5, 'name': 'white-king'},\n",
       " {'id': 6, 'name': 'black-pawn'},\n",
       " {'id': 7, 'name': 'black-rook'},\n",
       " {'id': 8, 'name': 'black-knight'},\n",
       " {'id': 9, 'name': 'black-bishop'},\n",
       " {'id': 10, 'name': 'black-queen'},\n",
       " {'id': 11, 'name': 'black-king'},\n",
       " {'id': 12, 'name': 'empty'}]"
      ]
     },
     "execution_count": 19,
     "metadata": {},
     "output_type": "execute_result"
    }
   ],
   "source": [
    "annot['categories']"
   ]
  },
  {
   "cell_type": "markdown",
   "id": "3244a668-d127-46c3-a6fe-75d51fc2deaa",
   "metadata": {},
   "source": [
    "## Splits value"
   ]
  },
  {
   "cell_type": "code",
   "execution_count": 20,
   "id": "9d19f1c1-841c-4895-b877-fd8d2773b57e",
   "metadata": {},
   "outputs": [
    {
     "data": {
      "text/plain": [
       "dict_keys(['train', 'val', 'test', 'chessred2k'])"
      ]
     },
     "execution_count": 20,
     "metadata": {},
     "output_type": "execute_result"
    }
   ],
   "source": [
    "annot['splits'].keys()"
   ]
  },
  {
   "cell_type": "code",
   "execution_count": 21,
   "id": "5ac80012-1f92-4dd5-9ba9-35825e070271",
   "metadata": {},
   "outputs": [
    {
     "data": {
      "text/plain": [
       "dict_keys(['image_ids', 'n_samples'])"
      ]
     },
     "execution_count": 21,
     "metadata": {},
     "output_type": "execute_result"
    }
   ],
   "source": [
    "annot['splits']['chessred2k']['train'].keys()"
   ]
  },
  {
   "cell_type": "markdown",
   "id": "136d2959-6134-4b5d-aa88-0c1099ac1215",
   "metadata": {},
   "source": [
    "## Creating board Y-value"
   ]
  },
  {
   "cell_type": "code",
   "execution_count": 24,
   "id": "34856128-79fc-4101-ab5f-23cb51f930e4",
   "metadata": {},
   "outputs": [
    {
     "data": {
      "text/plain": [
       "10800"
      ]
     },
     "execution_count": 24,
     "metadata": {},
     "output_type": "execute_result"
    }
   ],
   "source": [
    "len(annot['images'])"
   ]
  },
  {
   "cell_type": "code",
   "execution_count": 25,
   "id": "273c0c34-9863-4c9a-86b0-df5cad1a86a8",
   "metadata": {},
   "outputs": [],
   "source": [
    "pieces_game_zero = [annot[\"annotations\"]['pieces'][i] for i in range(223804) if annot[\"annotations\"]['pieces'][i]['image_id'] == 0]"
   ]
  },
  {
   "cell_type": "code",
   "execution_count": 26,
   "id": "e8193a0d-bfc3-450b-8a1e-0d483f8de9f3",
   "metadata": {
    "scrolled": true
   },
   "outputs": [
    {
     "data": {
      "text/plain": [
       "32"
      ]
     },
     "execution_count": 26,
     "metadata": {},
     "output_type": "execute_result"
    }
   ],
   "source": [
    "len(pieces_game_zero)"
   ]
  },
  {
   "cell_type": "code",
   "execution_count": 30,
   "id": "7905b65a-9856-4026-8e2d-91c1c1318ba2",
   "metadata": {},
   "outputs": [],
   "source": [
    "import numpy as np"
   ]
  },
  {
   "cell_type": "code",
   "execution_count": 37,
   "id": "15b86dd3-ca4e-4cbd-8ba0-da9ab4988866",
   "metadata": {},
   "outputs": [],
   "source": [
    "def array_board(pieces_game:list):\n",
    "    res_array = np.ones((8,8))*12\n",
    "    letter_conv = {'a':0, 'b':1, 'c':2, 'd':3, 'e':4, 'f':5, 'g':6, 'h':7}\n",
    "    for piece in pieces_game:\n",
    "        pos = piece['chessboard_position']\n",
    "        row, col = 8-int(pos[1]), letter_conv[pos[0]]\n",
    "        res_array[row, col] = piece['category_id']\n",
    "    return res_array"
   ]
  },
  {
   "cell_type": "code",
   "execution_count": 38,
   "id": "166262d2-93f0-4337-8f27-da0e8b1af10c",
   "metadata": {},
   "outputs": [
    {
     "data": {
      "text/plain": [
       "array([[ 7.,  8.,  9., 10., 11.,  9.,  8.,  7.],\n",
       "       [ 6.,  6.,  6.,  6.,  6.,  6.,  6.,  6.],\n",
       "       [12., 12., 12., 12., 12., 12., 12., 12.],\n",
       "       [12., 12., 12., 12., 12., 12., 12., 12.],\n",
       "       [12., 12., 12., 12., 12., 12., 12., 12.],\n",
       "       [12., 12., 12., 12., 12., 12., 12., 12.],\n",
       "       [ 0.,  0.,  0.,  0.,  0.,  0.,  0.,  0.],\n",
       "       [ 1.,  2.,  3.,  4.,  5.,  3.,  2.,  1.]])"
      ]
     },
     "execution_count": 38,
     "metadata": {},
     "output_type": "execute_result"
    }
   ],
   "source": [
    "array_board(pieces_game_zero)"
   ]
  },
  {
   "cell_type": "code",
   "execution_count": 40,
   "id": "df3bcb43-48ad-43bc-bc27-bc596a9243fa",
   "metadata": {},
   "outputs": [
    {
     "data": {
      "text/plain": [
       "{0: 'P',\n",
       " 1: 'R',\n",
       " 2: 'N',\n",
       " 3: 'B',\n",
       " 4: 'Q',\n",
       " 5: 'K',\n",
       " 6: 'p',\n",
       " 7: 'r',\n",
       " 8: 'n',\n",
       " 9: 'b',\n",
       " 10: 'q',\n",
       " 11: 'k'}"
      ]
     },
     "execution_count": 40,
     "metadata": {},
     "output_type": "execute_result"
    }
   ],
   "source": [
    "fen_str = \"PRNBQKprnbqk\"\n",
    "id_range = [i for i in range(12)]\n",
    "dict_fen = dict([(k, fen_str[k]) for k in id_range])\n",
    "dict_fen"
   ]
  }
 ],
 "metadata": {
  "kernelspec": {
   "display_name": "Python 3 (ipykernel)",
   "language": "python",
   "name": "python3"
  },
  "language_info": {
   "codemirror_mode": {
    "name": "ipython",
    "version": 3
   },
   "file_extension": ".py",
   "mimetype": "text/x-python",
   "name": "python",
   "nbconvert_exporter": "python",
   "pygments_lexer": "ipython3",
   "version": "3.10.6"
  }
 },
 "nbformat": 4,
 "nbformat_minor": 5
}
