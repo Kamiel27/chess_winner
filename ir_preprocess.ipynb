{
 "cells": [
  {
   "cell_type": "code",
   "execution_count": 1,
   "id": "5604390d-3c3f-415a-a70f-b317d1b623a3",
   "metadata": {},
   "outputs": [],
   "source": [
    "import json"
   ]
  },
  {
   "cell_type": "markdown",
   "id": "1d067e6a-4696-4092-bc3d-83d5f5b61a29",
   "metadata": {},
   "source": [
    "# Annotations"
   ]
  },
  {
   "cell_type": "markdown",
   "id": "912ae494-efdf-4965-b1b2-04b3d64e2f71",
   "metadata": {},
   "source": [
    "In this part, we must understand how the images are labelled to be able to preprocess it."
   ]
  },
  {
   "cell_type": "code",
   "execution_count": 2,
   "id": "bd9c923e-06b3-4153-80ae-a7da8b852e16",
   "metadata": {},
   "outputs": [],
   "source": [
    "annot_file = open(\"raw_data/chessred2k/annotations.json\")\n",
    "annot = json.load(annot_file)"
   ]
  },
  {
   "cell_type": "code",
   "execution_count": 3,
   "id": "310be3f4-37e0-4aa2-812f-0307e1b14670",
   "metadata": {},
   "outputs": [
    {
     "data": {
      "text/plain": [
       "dict_keys(['info', 'images', 'annotations', 'categories', 'splits'])"
      ]
     },
     "execution_count": 3,
     "metadata": {},
     "output_type": "execute_result"
    }
   ],
   "source": [
    "annot.keys()"
   ]
  },
  {
   "cell_type": "code",
   "execution_count": 13,
   "id": "87a6882c-66b9-48af-9105-21d0b81a826a",
   "metadata": {},
   "outputs": [
    {
     "data": {
      "text/plain": [
       "[dict, list, dict, list, dict]"
      ]
     },
     "execution_count": 13,
     "metadata": {},
     "output_type": "execute_result"
    }
   ],
   "source": [
    "[type(annot[key]) for key in annot.keys()]"
   ]
  },
  {
   "cell_type": "markdown",
   "id": "69626b29-a099-4ffd-9d57-59b8a55ad29d",
   "metadata": {},
   "source": [
    "## Info values"
   ]
  },
  {
   "cell_type": "code",
   "execution_count": 24,
   "id": "ee186fe4-f1a0-4abd-974b-1b09dc60b611",
   "metadata": {},
   "outputs": [
    {
     "data": {
      "text/plain": [
       "dict_keys(['description', 'version', 'year', 'date_created', 'author'])"
      ]
     },
     "execution_count": 24,
     "metadata": {},
     "output_type": "execute_result"
    }
   ],
   "source": [
    "annot['info'].keys()"
   ]
  },
  {
   "cell_type": "code",
   "execution_count": 25,
   "id": "21b5fec5-e4ea-4a8d-abbb-69d2db5fde51",
   "metadata": {},
   "outputs": [
    {
     "data": {
      "text/plain": [
       "[str, str, int, str, str]"
      ]
     },
     "execution_count": 25,
     "metadata": {},
     "output_type": "execute_result"
    }
   ],
   "source": [
    "[type(annot['info'][key]) for key in annot['info'].keys()]"
   ]
  },
  {
   "cell_type": "code",
   "execution_count": 27,
   "id": "c96f274c-1bfd-4df7-a8fc-f173e973dbfb",
   "metadata": {},
   "outputs": [
    {
     "name": "stdout",
     "output_type": "stream",
     "text": [
      "Chess Recognition Dataset (ChessReD)\n",
      "1.0\n",
      "2023\n",
      "26/08/2023\n",
      "Athanasios Masouris\n"
     ]
    }
   ],
   "source": [
    "for val in annot['info'].values():\n",
    "    print(val)"
   ]
  },
  {
   "cell_type": "markdown",
   "id": "e1f1bc1e-86a2-4fe5-ba0b-897bdebd3f59",
   "metadata": {},
   "source": [
    "## Images values"
   ]
  },
  {
   "cell_type": "code",
   "execution_count": 34,
   "id": "2f143621-16fc-4628-8c3c-e8c6166caaeb",
   "metadata": {},
   "outputs": [
    {
     "data": {
      "text/plain": [
       "103"
      ]
     },
     "execution_count": 34,
     "metadata": {},
     "output_type": "execute_result"
    }
   ],
   "source": [
    "first_game = [image for image in annot['images'] if image['game_id'] == 0]\n",
    "len(first_game)"
   ]
  },
  {
   "cell_type": "code",
   "execution_count": 35,
   "id": "9d5c3b8b-a6d2-4626-853c-98fcbd0444e8",
   "metadata": {},
   "outputs": [
    {
     "data": {
      "text/plain": [
       "{'file_name': 'G000_IMG000.jpg',\n",
       " 'path': 'images/0/G000_IMG000.jpg',\n",
       " 'camera': 'Huawei P40 pro',\n",
       " 'height': 3072,\n",
       " 'width': 3072,\n",
       " 'game_id': 0,\n",
       " 'move_id': 0,\n",
       " 'id': 0}"
      ]
     },
     "execution_count": 35,
     "metadata": {},
     "output_type": "execute_result"
    }
   ],
   "source": [
    "first_game[0]"
   ]
  },
  {
   "cell_type": "code",
   "execution_count": 37,
   "id": "88ef4ddc-bd6b-461e-aaea-6c9f84fbdf4d",
   "metadata": {
    "scrolled": true
   },
   "outputs": [
    {
     "data": {
      "text/plain": [
       "{'file_name': 'G000_IMG102.jpg',\n",
       " 'path': 'images/0/G000_IMG102.jpg',\n",
       " 'camera': 'Huawei P40 pro',\n",
       " 'height': 3072,\n",
       " 'width': 3072,\n",
       " 'game_id': 0,\n",
       " 'move_id': 102,\n",
       " 'id': 102}"
      ]
     },
     "execution_count": 37,
     "metadata": {},
     "output_type": "execute_result"
    }
   ],
   "source": [
    "first_game[102]"
   ]
  },
  {
   "cell_type": "code",
   "execution_count": 38,
   "id": "0f0d2092-4036-4a7e-8a6a-00f1faa2778f",
   "metadata": {},
   "outputs": [
    {
     "data": {
      "text/plain": [
       "{'file_name': 'G001_IMG000.jpg',\n",
       " 'path': 'images/1/G001_IMG000.jpg',\n",
       " 'camera': 'Huawei P40 pro',\n",
       " 'height': 3072,\n",
       " 'width': 3072,\n",
       " 'game_id': 1,\n",
       " 'move_id': 0,\n",
       " 'id': 103}"
      ]
     },
     "execution_count": 38,
     "metadata": {},
     "output_type": "execute_result"
    }
   ],
   "source": [
    "annot['images'][103]"
   ]
  },
  {
   "cell_type": "markdown",
   "id": "e4708384-56c2-4081-9c8d-d7d400226fd5",
   "metadata": {},
   "source": [
    "Here is the understanding of the image key:\n",
    "- 'file_name' gives obviously the name of the image\n",
    "- 'path' provides the location. will be useful to define preprocessing functions with images as arguments\n",
    "- 'height' and 'width' are quite obvious too.\n",
    "- 'game_id' is associated to the number of the game. Not that useful at first glance\n",
    "- 'move_id' won't be very useful either\n",
    "- 'id' is the position of the image in the whole dataset. To be considered"
   ]
  },
  {
   "cell_type": "markdown",
   "id": "f4cecb17-b63c-4f2c-9913-b3aebe75c39c",
   "metadata": {},
   "source": [
    "## Annotations value"
   ]
  },
  {
   "cell_type": "code",
   "execution_count": 40,
   "id": "6207a088-22ea-4349-a156-204b286c09ea",
   "metadata": {},
   "outputs": [
    {
     "data": {
      "text/plain": [
       "dict_keys(['pieces', 'corners'])"
      ]
     },
     "execution_count": 40,
     "metadata": {},
     "output_type": "execute_result"
    }
   ],
   "source": [
    "annot['annotations'].keys()"
   ]
  },
  {
   "cell_type": "code",
   "execution_count": 41,
   "id": "3527fd4b-ab66-4057-97a8-a4340cd1ad2e",
   "metadata": {},
   "outputs": [
    {
     "data": {
      "text/plain": [
       "[list, list]"
      ]
     },
     "execution_count": 41,
     "metadata": {},
     "output_type": "execute_result"
    }
   ],
   "source": [
    "[type(annot['annotations'][key]) for key in annot['annotations'].keys()]"
   ]
  },
  {
   "cell_type": "code",
   "execution_count": 42,
   "id": "aa160b18-31d0-4c62-99c9-6637bf3f3c8d",
   "metadata": {},
   "outputs": [
    {
     "data": {
      "text/plain": [
       "[223804, 2078]"
      ]
     },
     "execution_count": 42,
     "metadata": {},
     "output_type": "execute_result"
    }
   ],
   "source": [
    "[len(annot['annotations'][key]) for key in annot['annotations'].keys()]"
   ]
  },
  {
   "cell_type": "code",
   "execution_count": 43,
   "id": "9ba913ab-5f64-4467-abb1-4587c95697fe",
   "metadata": {
    "scrolled": true
   },
   "outputs": [
    {
     "data": {
      "text/plain": [
       "{'image_id': 0,\n",
       " 'category_id': 7,\n",
       " 'chessboard_position': 'a8',\n",
       " 'id': 0,\n",
       " 'bbox': [510.34, 963.65, 155.75, 186.14]}"
      ]
     },
     "execution_count": 43,
     "metadata": {},
     "output_type": "execute_result"
    }
   ],
   "source": [
    "annot[\"annotations\"]['pieces'][0]"
   ]
  },
  {
   "cell_type": "code",
   "execution_count": 47,
   "id": "75a0efc3-3a7b-4427-b22c-212fae2c6cd1",
   "metadata": {},
   "outputs": [
    {
     "data": {
      "text/plain": [
       "{'image_id': 0,\n",
       " 'category_id': 8,\n",
       " 'chessboard_position': 'b8',\n",
       " 'id': 1,\n",
       " 'bbox': [692.17, 877.29, 154.48, 211.46]}"
      ]
     },
     "execution_count": 47,
     "metadata": {},
     "output_type": "execute_result"
    }
   ],
   "source": [
    "annot[\"annotations\"]['pieces'][1]"
   ]
  },
  {
   "cell_type": "code",
   "execution_count": 44,
   "id": "99f5fdb5-03ee-4bfc-b4aa-95a38a4df47b",
   "metadata": {},
   "outputs": [
    {
     "data": {
      "text/plain": [
       "{'image_id': 0,\n",
       " 'corners': {'bottom_right': [2610.3, 1560.9],\n",
       "  'top_right': [1772.23, 638.59],\n",
       "  'top_left': [488.7, 1078.7],\n",
       "  'bottom_left': [1063.3, 2304.1]},\n",
       " 'id': 223804}"
      ]
     },
     "execution_count": 44,
     "metadata": {},
     "output_type": "execute_result"
    }
   ],
   "source": [
    "annot[\"annotations\"]['corners'][0]"
   ]
  },
  {
   "cell_type": "code",
   "execution_count": 46,
   "id": "1ad99a6b-7daa-4be7-b523-247a9d851414",
   "metadata": {},
   "outputs": [
    {
     "data": {
      "text/plain": [
       "{'image_id': 1,\n",
       " 'corners': {'top_right': [892.9, 931.7],\n",
       "  'bottom_right': [2376.27, 994.8],\n",
       "  'bottom_left': [2392.7, 2142.33],\n",
       "  'top_left': [429.86, 1982.92]},\n",
       " 'id': 223805}"
      ]
     },
     "execution_count": 46,
     "metadata": {},
     "output_type": "execute_result"
    }
   ],
   "source": [
    "annot[\"annotations\"]['corners'][1]"
   ]
  },
  {
   "cell_type": "markdown",
   "id": "be1dff60-d517-4e9d-a869-24444d8c5347",
   "metadata": {},
   "source": [
    "## Categories value."
   ]
  },
  {
   "cell_type": "code",
   "execution_count": 15,
   "id": "66242cdf-4a12-42e1-abb8-58fe8f274ac3",
   "metadata": {
    "scrolled": true
   },
   "outputs": [
    {
     "data": {
      "text/plain": [
       "[{'id': 0, 'name': 'white-pawn'},\n",
       " {'id': 1, 'name': 'white-rook'},\n",
       " {'id': 2, 'name': 'white-knight'},\n",
       " {'id': 3, 'name': 'white-bishop'},\n",
       " {'id': 4, 'name': 'white-queen'},\n",
       " {'id': 5, 'name': 'white-king'},\n",
       " {'id': 6, 'name': 'black-pawn'},\n",
       " {'id': 7, 'name': 'black-rook'},\n",
       " {'id': 8, 'name': 'black-knight'},\n",
       " {'id': 9, 'name': 'black-bishop'},\n",
       " {'id': 10, 'name': 'black-queen'},\n",
       " {'id': 11, 'name': 'black-king'},\n",
       " {'id': 12, 'name': 'empty'}]"
      ]
     },
     "execution_count": 15,
     "metadata": {},
     "output_type": "execute_result"
    }
   ],
   "source": [
    "annot['categories']"
   ]
  },
  {
   "cell_type": "code",
   "execution_count": 18,
   "id": "9d19f1c1-841c-4895-b877-fd8d2773b57e",
   "metadata": {},
   "outputs": [
    {
     "data": {
      "text/plain": [
       "dict_keys(['train', 'val', 'test', 'chessred2k'])"
      ]
     },
     "execution_count": 18,
     "metadata": {},
     "output_type": "execute_result"
    }
   ],
   "source": [
    "annot['splits'].keys()"
   ]
  },
  {
   "cell_type": "code",
   "execution_count": 23,
   "id": "5ac80012-1f92-4dd5-9ba9-35825e070271",
   "metadata": {},
   "outputs": [
    {
     "data": {
      "text/plain": [
       "dict_keys(['image_ids', 'n_samples'])"
      ]
     },
     "execution_count": 23,
     "metadata": {},
     "output_type": "execute_result"
    }
   ],
   "source": [
    "annot['splits']['chessred2k']['train'].keys()"
   ]
  }
 ],
 "metadata": {
  "kernelspec": {
   "display_name": "Python 3 (ipykernel)",
   "language": "python",
   "name": "python3"
  },
  "language_info": {
   "codemirror_mode": {
    "name": "ipython",
    "version": 3
   },
   "file_extension": ".py",
   "mimetype": "text/x-python",
   "name": "python",
   "nbconvert_exporter": "python",
   "pygments_lexer": "ipython3",
   "version": "3.10.6"
  }
 },
 "nbformat": 4,
 "nbformat_minor": 5
}
