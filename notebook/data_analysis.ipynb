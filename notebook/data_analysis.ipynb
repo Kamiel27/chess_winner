{
 "cells": [
  {
   "cell_type": "markdown",
   "id": "2d892ede-00ed-462c-9bbe-2a8f07619304",
   "metadata": {},
   "source": [
    "**Import packages**"
   ]
  },
  {
   "cell_type": "code",
   "execution_count": 1,
   "id": "0950d6c6",
   "metadata": {},
   "outputs": [],
   "source": [
    "import pandas as pd\n",
    "import numpy as np\n",
    "import re\n",
    "import chess\n",
    "import os\n",
    "\n",
    "from sklearn.ensemble import GradientBoostingClassifier, VotingClassifier, StackingClassifier\n",
    "from sklearn.linear_model import LinearRegression\n",
    "from sklearn.model_selection import train_test_split, GridSearchCV, cross_val_score\n",
    "from xgboost import XGBClassifier\n",
    "\n",
    "# import from chess winner package \n",
    "from chess_winner.board import Board64\n",
    "from chess_winner.utils import fen_to_input_columns,transform_dataset,symbols_to_dict,input_columns_to_fen,dict_to_symbols\n",
    "import dotenv"
   ]
  },
  {
   "cell_type": "markdown",
   "id": "b3981504-82bd-4721-ae8c-4575fe809241",
   "metadata": {},
   "source": [
    "# Preprocess dataset"
   ]
  },
  {
   "cell_type": "markdown",
   "id": "b532d1d7-fd7b-49e8-87cf-7623050d19eb",
   "metadata": {},
   "source": [
    "**Extract from the dataset**"
   ]
  },
  {
   "cell_type": "code",
   "execution_count": 2,
   "id": "eb69869a-67b2-483d-94ca-807f7113153f",
   "metadata": {},
   "outputs": [],
   "source": [
    "data = pd.read_csv('../raw_data/club_games_data.csv')"
   ]
  },
  {
   "cell_type": "code",
   "execution_count": 3,
   "id": "ec3ba1e2-9ac7-4d82-877e-d4f410d5664b",
   "metadata": {
    "scrolled": true
   },
   "outputs": [
    {
     "data": {
      "text/plain": [
       "fen             rn3rk1/ppq1ppbp/5np1/8/1Q1N4/2PPP1P1/PP3P1P/RN...\n",
       "white_result                                             resigned\n",
       "Name: 7153, dtype: object"
      ]
     },
     "execution_count": 3,
     "metadata": {},
     "output_type": "execute_result"
    }
   ],
   "source": [
    "data.sample(frac=1).iloc[0][['fen','white_result']]"
   ]
  },
  {
   "cell_type": "code",
   "execution_count": 7,
   "id": "ea0dc4b4-bdf3-44a8-a499-afa66174c34e",
   "metadata": {},
   "outputs": [],
   "source": [
    "data = data[['white_result','black_result','pgn']]"
   ]
  },
  {
   "cell_type": "markdown",
   "id": "4b8cccb4-5f4b-4517-b208-8eb6eae67563",
   "metadata": {},
   "source": [
    "**Keep only finished win/loose game, then shuffle**"
   ]
  },
  {
   "cell_type": "code",
   "execution_count": 8,
   "id": "7bbdd210-7b27-443f-b6ab-b018fce6187b",
   "metadata": {},
   "outputs": [],
   "source": [
    "status = ['abandoned','resigned','timeout','repetition','timevsinsufficient','stalemate','insufficient','agreed','threecheck','kingofthehill','50move']"
   ]
  },
  {
   "cell_type": "code",
   "execution_count": 9,
   "id": "d59c3365-8ab1-46fe-8239-8598583c3c2d",
   "metadata": {},
   "outputs": [],
   "source": [
    "sample = data[(~data['white_result'].isin(status))&(~data['black_result'].isin(status))].sample(frac=1).reset_index(drop=True)"
   ]
  },
  {
   "cell_type": "markdown",
   "id": "c5eae1d0-f3ea-4981-a7cb-38d1087e430c",
   "metadata": {},
   "source": [
    "**Add game result / target**"
   ]
  },
  {
   "cell_type": "code",
   "execution_count": 10,
   "id": "216d8a0f-6116-4afa-8f84-55130e577d99",
   "metadata": {},
   "outputs": [],
   "source": [
    "sample['result'] = sample['white_result'].map(lambda X: 1 if X=='win' else 0) "
   ]
  },
  {
   "cell_type": "markdown",
   "id": "68d1abf4-ed4b-475c-b85b-09ac280ccc9f",
   "metadata": {},
   "source": [
    "**Get a data sample to reduce the preprocessing and modelizing time**"
   ]
  },
  {
   "cell_type": "code",
   "execution_count": 11,
   "id": "d23fe12b-2289-4bf1-b147-37c9744b4cf9",
   "metadata": {},
   "outputs": [],
   "source": [
    "X_train_game = sample.drop(columns='result')\n",
    "y_train_game = sample['result']"
   ]
  },
  {
   "cell_type": "markdown",
   "id": "c45bc7d4-fab7-4924-9a52-69ec2d869ed6",
   "metadata": {},
   "source": [
    "**Define envirnonment variables for the chess engine**"
   ]
  },
  {
   "cell_type": "code",
   "execution_count": 12,
   "id": "f67e6560-40b3-4a9f-95d6-3986f58a3bb9",
   "metadata": {},
   "outputs": [
    {
     "data": {
      "text/plain": [
       "('5', '0.1', '10000')"
      ]
     },
     "execution_count": 12,
     "metadata": {},
     "output_type": "execute_result"
    }
   ],
   "source": [
    "os.environ[\"ENGINE_DEPTH\"] = \"5\"\n",
    "os.environ[\"ENGINE_TIMEOUT\"] = \"0.1\"\n",
    "os.environ[\"ENGINE_MATE_SCORE\"] = \"10000\"\n",
    "os.environ.get(\"ENGINE_DEPTH\"),os.environ.get(\"ENGINE_TIMEOUT\"),os.environ.get(\"ENGINE_MATE_SCORE\")"
   ]
  },
  {
   "cell_type": "markdown",
   "id": "d2bed37b-71a8-4714-959f-38c9cb4c8674",
   "metadata": {},
   "source": [
    "**Transform the train dataset into a usable 66 columns dataset**"
   ]
  },
  {
   "cell_type": "code",
   "execution_count": null,
   "id": "7802da78-64e6-4c58-b35d-f8f406b325ff",
   "metadata": {},
   "outputs": [],
   "source": [
    "%%time\n",
    "df_preprocessed = transform_dataset(X_train_game[0:100],y_train_game[0:100],0,1000)"
   ]
  },
  {
   "cell_type": "markdown",
   "id": "70a314d0-65a8-437a-a0b1-ead0a16021f2",
   "metadata": {},
   "source": [
    "**Store preprocessed data into csv**"
   ]
  },
  {
   "cell_type": "code",
   "execution_count": 20,
   "id": "7aa0d1ba-6d7f-4e15-a39e-40aeeb8d7424",
   "metadata": {},
   "outputs": [],
   "source": [
    "df_preprocessed.to_csv('../raw_data/club_games_data_preprocessed_symbols.csv',index=False)"
   ]
  },
  {
   "cell_type": "code",
   "execution_count": 13,
   "id": "c10e6dbc-a26c-4859-8aea-d51f4b579e39",
   "metadata": {},
   "outputs": [
    {
     "ename": "NameError",
     "evalue": "name 'df_preprocessed' is not defined",
     "output_type": "error",
     "traceback": [
      "\u001b[0;31m---------------------------------------------------------------------------\u001b[0m",
      "\u001b[0;31mNameError\u001b[0m                                 Traceback (most recent call last)",
      "Cell \u001b[0;32mIn[13], line 1\u001b[0m\n\u001b[0;32m----> 1\u001b[0m \u001b[43mdf_preprocessed\u001b[49m\n",
      "\u001b[0;31mNameError\u001b[0m: name 'df_preprocessed' is not defined"
     ]
    }
   ],
   "source": [
    "df_preprocessed"
   ]
  },
  {
   "cell_type": "markdown",
   "id": "e03be7e2-c137-455b-9cbe-7dbc3c80d064",
   "metadata": {},
   "source": [
    "# Model Training part\n"
   ]
  },
  {
   "cell_type": "markdown",
   "id": "bebc7f7c-a3cd-45bc-85fa-8c1884a96ae4",
   "metadata": {},
   "source": [
    "**New dataset with user turn and symbols**"
   ]
  },
  {
   "cell_type": "code",
   "execution_count": 14,
   "id": "c9e64b3c-ab7a-404b-a639-27ed43b561c1",
   "metadata": {},
   "outputs": [],
   "source": [
    "df_preprocessed_symbols = pd.read_csv('../raw_data/club_games_data_preprocessed_symbols.csv')\n",
    "df_preprocessed_symbols.columns=range(0,67)"
   ]
  },
  {
   "cell_type": "markdown",
   "id": "a2a58aee-c4d0-4b36-bb25-9a0b03aa2824",
   "metadata": {},
   "source": [
    "**Replace the symbols with categorical values**"
   ]
  },
  {
   "cell_type": "code",
   "execution_count": 15,
   "id": "f4f4d39d-f678-447e-a91b-20c8da46e61c",
   "metadata": {},
   "outputs": [],
   "source": [
    "df = symbols_to_dict(df_preprocessed_symbols)"
   ]
  },
  {
   "cell_type": "code",
   "execution_count": 16,
   "id": "e4bf0c31-1698-411d-a422-7edcfb44e839",
   "metadata": {},
   "outputs": [
    {
     "data": {
      "text/html": [
       "<div>\n",
       "<style scoped>\n",
       "    .dataframe tbody tr th:only-of-type {\n",
       "        vertical-align: middle;\n",
       "    }\n",
       "\n",
       "    .dataframe tbody tr th {\n",
       "        vertical-align: top;\n",
       "    }\n",
       "\n",
       "    .dataframe thead th {\n",
       "        text-align: right;\n",
       "    }\n",
       "</style>\n",
       "<table border=\"1\" class=\"dataframe\">\n",
       "  <thead>\n",
       "    <tr style=\"text-align: right;\">\n",
       "      <th></th>\n",
       "      <th>0</th>\n",
       "      <th>1</th>\n",
       "      <th>2</th>\n",
       "      <th>3</th>\n",
       "      <th>4</th>\n",
       "      <th>5</th>\n",
       "      <th>6</th>\n",
       "      <th>7</th>\n",
       "      <th>8</th>\n",
       "      <th>9</th>\n",
       "      <th>...</th>\n",
       "      <th>57</th>\n",
       "      <th>58</th>\n",
       "      <th>59</th>\n",
       "      <th>60</th>\n",
       "      <th>61</th>\n",
       "      <th>62</th>\n",
       "      <th>63</th>\n",
       "      <th>64</th>\n",
       "      <th>65</th>\n",
       "      <th>66</th>\n",
       "    </tr>\n",
       "  </thead>\n",
       "  <tbody>\n",
       "    <tr>\n",
       "      <th>0</th>\n",
       "      <td>4</td>\n",
       "      <td>2</td>\n",
       "      <td>3</td>\n",
       "      <td>5</td>\n",
       "      <td>6</td>\n",
       "      <td>3</td>\n",
       "      <td>2</td>\n",
       "      <td>4</td>\n",
       "      <td>1</td>\n",
       "      <td>1</td>\n",
       "      <td>...</td>\n",
       "      <td>12</td>\n",
       "      <td>13</td>\n",
       "      <td>15</td>\n",
       "      <td>16</td>\n",
       "      <td>13</td>\n",
       "      <td>12</td>\n",
       "      <td>14</td>\n",
       "      <td>1</td>\n",
       "      <td>54</td>\n",
       "      <td>1</td>\n",
       "    </tr>\n",
       "    <tr>\n",
       "      <th>1</th>\n",
       "      <td>4</td>\n",
       "      <td>2</td>\n",
       "      <td>3</td>\n",
       "      <td>5</td>\n",
       "      <td>6</td>\n",
       "      <td>3</td>\n",
       "      <td>2</td>\n",
       "      <td>4</td>\n",
       "      <td>1</td>\n",
       "      <td>1</td>\n",
       "      <td>...</td>\n",
       "      <td>12</td>\n",
       "      <td>13</td>\n",
       "      <td>15</td>\n",
       "      <td>16</td>\n",
       "      <td>13</td>\n",
       "      <td>12</td>\n",
       "      <td>14</td>\n",
       "      <td>0</td>\n",
       "      <td>68</td>\n",
       "      <td>1</td>\n",
       "    </tr>\n",
       "    <tr>\n",
       "      <th>2</th>\n",
       "      <td>4</td>\n",
       "      <td>2</td>\n",
       "      <td>3</td>\n",
       "      <td>5</td>\n",
       "      <td>6</td>\n",
       "      <td>3</td>\n",
       "      <td>2</td>\n",
       "      <td>4</td>\n",
       "      <td>1</td>\n",
       "      <td>1</td>\n",
       "      <td>...</td>\n",
       "      <td>12</td>\n",
       "      <td>13</td>\n",
       "      <td>15</td>\n",
       "      <td>16</td>\n",
       "      <td>13</td>\n",
       "      <td>12</td>\n",
       "      <td>14</td>\n",
       "      <td>1</td>\n",
       "      <td>226</td>\n",
       "      <td>1</td>\n",
       "    </tr>\n",
       "    <tr>\n",
       "      <th>3</th>\n",
       "      <td>4</td>\n",
       "      <td>2</td>\n",
       "      <td>3</td>\n",
       "      <td>5</td>\n",
       "      <td>6</td>\n",
       "      <td>3</td>\n",
       "      <td>0</td>\n",
       "      <td>4</td>\n",
       "      <td>1</td>\n",
       "      <td>1</td>\n",
       "      <td>...</td>\n",
       "      <td>12</td>\n",
       "      <td>13</td>\n",
       "      <td>15</td>\n",
       "      <td>16</td>\n",
       "      <td>13</td>\n",
       "      <td>12</td>\n",
       "      <td>14</td>\n",
       "      <td>0</td>\n",
       "      <td>48</td>\n",
       "      <td>1</td>\n",
       "    </tr>\n",
       "    <tr>\n",
       "      <th>4</th>\n",
       "      <td>4</td>\n",
       "      <td>2</td>\n",
       "      <td>3</td>\n",
       "      <td>5</td>\n",
       "      <td>6</td>\n",
       "      <td>3</td>\n",
       "      <td>0</td>\n",
       "      <td>4</td>\n",
       "      <td>1</td>\n",
       "      <td>1</td>\n",
       "      <td>...</td>\n",
       "      <td>0</td>\n",
       "      <td>13</td>\n",
       "      <td>15</td>\n",
       "      <td>16</td>\n",
       "      <td>13</td>\n",
       "      <td>12</td>\n",
       "      <td>14</td>\n",
       "      <td>1</td>\n",
       "      <td>69</td>\n",
       "      <td>1</td>\n",
       "    </tr>\n",
       "  </tbody>\n",
       "</table>\n",
       "<p>5 rows × 67 columns</p>\n",
       "</div>"
      ],
      "text/plain": [
       "  0  1  2  3  4  5  6  7  8  9   ...  57  58  59  60  61  62  63 64   65 66\n",
       "0  4  2  3  5  6  3  2  4  1  1  ...  12  13  15  16  13  12  14  1   54  1\n",
       "1  4  2  3  5  6  3  2  4  1  1  ...  12  13  15  16  13  12  14  0   68  1\n",
       "2  4  2  3  5  6  3  2  4  1  1  ...  12  13  15  16  13  12  14  1  226  1\n",
       "3  4  2  3  5  6  3  0  4  1  1  ...  12  13  15  16  13  12  14  0   48  1\n",
       "4  4  2  3  5  6  3  0  4  1  1  ...   0  13  15  16  13  12  14  1   69  1\n",
       "\n",
       "[5 rows x 67 columns]"
      ]
     },
     "execution_count": 16,
     "metadata": {},
     "output_type": "execute_result"
    }
   ],
   "source": [
    "df.head(5)"
   ]
  },
  {
   "cell_type": "markdown",
   "id": "def0fe99-3cdb-4b05-80b1-efb32d0c8799",
   "metadata": {},
   "source": [
    "**Define features X and target y for the model training**"
   ]
  },
  {
   "cell_type": "code",
   "execution_count": 17,
   "id": "d53ba72e-d560-43bd-ad5e-2bb6c706627c",
   "metadata": {},
   "outputs": [],
   "source": [
    "## shuffle sample\n",
    "sample = df.sample(frac = 1)\n",
    "## define features and target\n",
    "X = sample.drop(columns=66)\n",
    "y = sample[66]"
   ]
  },
  {
   "cell_type": "markdown",
   "id": "8687cd8c-1625-4948-8de6-fa66d4a614cf",
   "metadata": {},
   "source": [
    "**Train and test split**"
   ]
  },
  {
   "cell_type": "code",
   "execution_count": 18,
   "id": "481ead7b-90d4-4e7a-9be3-6ac407338bd7",
   "metadata": {},
   "outputs": [],
   "source": [
    "# define the train and test split\n",
    "X_train, X_test, y_train, y_test= train_test_split(X,y,test_size=0.20,random_state=42)"
   ]
  },
  {
   "cell_type": "code",
   "execution_count": 22,
   "id": "4b0b9991-f7e3-44e8-9c88-9bac5c841419",
   "metadata": {},
   "outputs": [
    {
     "data": {
      "text/plain": [
       "((890178, 66), (890178,))"
      ]
     },
     "execution_count": 22,
     "metadata": {},
     "output_type": "execute_result"
    }
   ],
   "source": [
    "X_train.shape,y_train.shape"
   ]
  },
  {
   "cell_type": "markdown",
   "id": "85299b0a-c3ec-45fb-9ee0-cb9f7532b6a1",
   "metadata": {},
   "source": [
    "**Grid search on XG boost classifier**"
   ]
  },
  {
   "cell_type": "code",
   "execution_count": null,
   "id": "e442d460-a2c1-468e-bd2a-85eff7a720fa",
   "metadata": {},
   "outputs": [],
   "source": [
    "grid_search = GridSearchCV(\n",
    "    XGBoost,\n",
    "    param_grid={\n",
    "        'n_estimators':[300],\n",
    "        'max_depth':[2,3,4,5,6],\n",
    "        'learning_rate':[0.1,0.01],\n",
    "        'enable_categorical': [True]\n",
    "    },\n",
    "    cv=5,\n",
    "    verbose=2,\n",
    "    return_train_score=True,\n",
    "    scoring='accuracy')\n",
    "\n",
    "#grid_search.get_params()"
   ]
  },
  {
   "cell_type": "code",
   "execution_count": null,
   "id": "5d204693-5466-4017-ab0e-d87d8c8de935",
   "metadata": {},
   "outputs": [],
   "source": [
    "grid_search.fit(X_train[0:10000], y_train[0:10000])\n",
    "grid_search.best_params_,grid_search.best_score_"
   ]
  },
  {
   "cell_type": "code",
   "execution_count": null,
   "id": "3d2f30b9-3c3b-4f09-a86b-a701fe3d59fa",
   "metadata": {},
   "outputs": [],
   "source": [
    "best_model = grid_search.best_estimator_\n",
    "best_model.score(X_test[0:1000],y_test[0:1000])"
   ]
  },
  {
   "cell_type": "markdown",
   "id": "fc27956a-13f3-4e23-bf68-1d7941ba0900",
   "metadata": {},
   "source": [
    "**Grid search on gradient boosting classifier**"
   ]
  },
  {
   "cell_type": "code",
   "execution_count": null,
   "id": "78e292dc-7cf0-43de-bc9f-4d7f41c20d21",
   "metadata": {},
   "outputs": [],
   "source": [
    "grid_search = GridSearchCV(\n",
    "    GradientBoostingClassifier(),\n",
    "    param_grid={\n",
    "        'n_estimators':[300],\n",
    "        'max_depth':[12],\n",
    "        'learning_rate':[0.1]\n",
    "    },\n",
    "    cv=5,\n",
    "    verbose=2,\n",
    "    return_train_score=True,\n",
    "    scoring='accuracy')\n",
    "\n",
    "#grid_search.get_params()"
   ]
  },
  {
   "cell_type": "code",
   "execution_count": null,
   "id": "01e7a77b-9e32-43ac-ada9-868de9f462c6",
   "metadata": {},
   "outputs": [],
   "source": [
    "grid_search.fit(X_train[0:5000], y_train[0:5000])\n",
    "grid_search.best_params_,grid_search.best_score_"
   ]
  },
  {
   "cell_type": "markdown",
   "id": "553334ba-45b7-4df0-b3a6-e6c5a2a1404b",
   "metadata": {},
   "source": [
    "**Voting and stacking**"
   ]
  },
  {
   "cell_type": "code",
   "execution_count": null,
   "id": "2f8fa61e-bb6c-4bd6-a29a-b7539f9327ba",
   "metadata": {},
   "outputs": [],
   "source": [
    "gboost = GradientBoostingClassifier(n_estimators=300,max_depth=12,learning_rate=0.1,verbose=1)\n",
    "xgb = XGBClassifier(n_estimators=300,max_depth=3, learning_rate=0.1,enable_categorical=True)\n",
    "\n",
    "model = VotingClassifier(\n",
    "    estimators = [(\"gboost\", gboost), ('xgboost',xgb)],\n",
    "    weights = [20, 10],\n",
    "    n_jobs=-1,\n",
    "    verbose=1\n",
    ")\n",
    "# model = StackingClassifier(\n",
    "#     estimators=[(\"gboost\", gboost),('xgboost',xgb)],    \n",
    "#     #final_estimator=LinearRegression(),\n",
    "#     cv=5,\n",
    "#     n_jobs=-1\n",
    "# )\n"
   ]
  },
  {
   "cell_type": "code",
   "execution_count": null,
   "id": "6ecf78d3-e819-47fd-82b9-f4d37c100094",
   "metadata": {},
   "outputs": [],
   "source": [
    "voted_model = model.fit(X_train[0:100000], y_train[0:100000])"
   ]
  },
  {
   "cell_type": "markdown",
   "id": "f02e935f-1923-4134-97b7-bb8b9d78e9e7",
   "metadata": {},
   "source": [
    "**Test the accuracy on test split**"
   ]
  },
  {
   "cell_type": "code",
   "execution_count": null,
   "id": "6216cb42-d701-4d6b-a6e3-c1e0039941eb",
   "metadata": {},
   "outputs": [],
   "source": [
    "voted_model.score(X_test,y_test)"
   ]
  },
  {
   "cell_type": "markdown",
   "id": "3f6f83fc-112c-4b95-ae97-537c27b214b3",
   "metadata": {},
   "source": [
    "**Train the best model directly**"
   ]
  },
  {
   "cell_type": "code",
   "execution_count": null,
   "id": "2d33bf2e-96ac-475d-bb9c-b6ab2c78046a",
   "metadata": {},
   "outputs": [
    {
     "name": "stdout",
     "output_type": "stream",
     "text": [
      "      Iter       Train Loss   Remaining Time \n",
      "         1           1.3096           98.51m\n",
      "         2           1.2455           96.58m\n",
      "         3           1.1914           97.10m\n",
      "         4           1.1442           97.01m\n",
      "         5           1.1033           96.33m\n",
      "         6           1.0665           96.50m\n",
      "         7           1.0339           96.66m\n",
      "         8           1.0050           97.25m\n",
      "         9           0.9789           97.34m\n",
      "        10           0.9553           97.23m\n",
      "        20           0.7959           92.74m\n",
      "        30           0.7094           89.06m\n",
      "        40           0.6452           85.81m\n",
      "        50           0.6034           81.12m\n",
      "        60           0.5595           77.77m\n",
      "        70           0.5257           73.69m\n",
      "        80           0.4983           70.67m\n",
      "        90           0.4739           68.61m\n",
      "       100           0.4539           65.22m\n"
     ]
    }
   ],
   "source": [
    "%%time\n",
    "GBC = GradientBoostingClassifier(max_depth=14,n_estimators=300,learning_rate=0.1,verbose=1).fit(X_train, y_train)"
   ]
  },
  {
   "cell_type": "code",
   "execution_count": 67,
   "id": "3ecd6d0a-37b9-457f-aa61-1860a7b39459",
   "metadata": {},
   "outputs": [
    {
     "data": {
      "text/plain": [
       "0.8880855557303018"
      ]
     },
     "execution_count": 67,
     "metadata": {},
     "output_type": "execute_result"
    }
   ],
   "source": [
    "GBC.score(X_test,y_test)"
   ]
  },
  {
   "cell_type": "markdown",
   "id": "1dd6c3e1-4231-4f98-91de-4becda301366",
   "metadata": {},
   "source": [
    "**Save the best model**"
   ]
  },
  {
   "cell_type": "code",
   "execution_count": 68,
   "id": "6af0954f-2dbc-4ac3-9053-7b91955a4f02",
   "metadata": {},
   "outputs": [],
   "source": [
    "import pickle\n",
    "import bz2\n",
    "import _pickle as cPickle\n",
    "\n",
    "# save compressed pickle \n",
    "model_pkl_file_compressed = \"../backend/model/chess_winner_classifier_model.pbz2\" \n",
    "\n",
    "with bz2.BZ2File(model_pkl_file_compressed, 'wb') as file: \n",
    "    cPickle.dump(GBC, file)"
   ]
  },
  {
   "cell_type": "markdown",
   "id": "2ad98789-d435-4de3-b093-0ecbe049877e",
   "metadata": {},
   "source": [
    "**Make some predictions on random sample from the test split**"
   ]
  },
  {
   "cell_type": "code",
   "execution_count": 70,
   "id": "4d389ebe-807c-4477-9d31-648869f95d82",
   "metadata": {},
   "outputs": [
    {
     "data": {
      "text/plain": [
       "array([[4.97173228e-01, 5.02826772e-01],\n",
       "       [1.14909391e-04, 9.99885091e-01],\n",
       "       [8.38767357e-01, 1.61232643e-01],\n",
       "       ...,\n",
       "       [1.33999046e-02, 9.86600095e-01],\n",
       "       [1.52112517e-03, 9.98478875e-01],\n",
       "       [6.80982348e-02, 9.31901765e-01]])"
      ]
     },
     "execution_count": 70,
     "metadata": {},
     "output_type": "execute_result"
    }
   ],
   "source": [
    "GBC.predict_proba(X_test.sample(frac=1).iloc[0:1000])"
   ]
  },
  {
   "cell_type": "markdown",
   "id": "ea2cb48b-fccd-4b7b-a255-cc56d51064dd",
   "metadata": {},
   "source": [
    "**Compare the shape of test vs train**"
   ]
  },
  {
   "cell_type": "code",
   "execution_count": 69,
   "id": "0b4ef90e-fe7a-4a9e-86bd-f9f9dcf12dbd",
   "metadata": {},
   "outputs": [
    {
     "data": {
      "text/plain": [
       "((222545, 66), (890178, 66))"
      ]
     },
     "execution_count": 69,
     "metadata": {},
     "output_type": "execute_result"
    }
   ],
   "source": [
    "X_test.shape,X_train.shape"
   ]
  }
 ],
 "metadata": {
  "kernelspec": {
   "display_name": "Python 3 (ipykernel)",
   "language": "python",
   "name": "python3"
  },
  "language_info": {
   "codemirror_mode": {
    "name": "ipython",
    "version": 3
   },
   "file_extension": ".py",
   "mimetype": "text/x-python",
   "name": "python",
   "nbconvert_exporter": "python",
   "pygments_lexer": "ipython3",
   "version": "3.10.6"
  },
  "toc": {
   "base_numbering": 1,
   "nav_menu": {},
   "number_sections": true,
   "sideBar": true,
   "skip_h1_title": false,
   "title_cell": "Table of Contents",
   "title_sidebar": "Contents",
   "toc_cell": false,
   "toc_position": {},
   "toc_section_display": true,
   "toc_window_display": false
  }
 },
 "nbformat": 4,
 "nbformat_minor": 5
}
