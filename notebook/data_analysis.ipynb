{
 "cells": [
  {
   "cell_type": "markdown",
   "id": "2d892ede-00ed-462c-9bbe-2a8f07619304",
   "metadata": {},
   "source": [
    "**Import packages**"
   ]
  },
  {
   "cell_type": "code",
   "execution_count": 2,
   "id": "0950d6c6",
   "metadata": {},
   "outputs": [],
   "source": [
    "import pandas as pd\n",
    "import numpy as np\n",
    "import re\n",
    "import chess\n",
    "\n",
    "from sklearn.neighbors import KNeighborsClassifier\n",
    "from sklearn.pipeline import Pipeline,make_pipeline\n",
    "from sklearn.preprocessing import OneHotEncoder\n",
    "from sklearn.ensemble import RandomForestClassifier,GradientBoostingClassifier\n",
    "from sklearn.model_selection import train_test_split, GridSearchCV\n",
    "from xgboost import XGBClassifier\n",
    "\n",
    "# import from chess winner package \n",
    "from chess_winner.board import Board64\n",
    "from chess_winner.utils import transform_dataset"
   ]
  },
  {
   "cell_type": "markdown",
   "id": "b3981504-82bd-4721-ae8c-4575fe809241",
   "metadata": {},
   "source": [
    "# Preprocess dataset"
   ]
  },
  {
   "cell_type": "markdown",
   "id": "b532d1d7-fd7b-49e8-87cf-7623050d19eb",
   "metadata": {},
   "source": [
    "**Extract from the dataset**"
   ]
  },
  {
   "cell_type": "code",
   "execution_count": 10,
   "id": "eb69869a-67b2-483d-94ca-807f7113153f",
   "metadata": {},
   "outputs": [],
   "source": [
    "data = pd.read_csv('../raw_data/club_games_data.csv')"
   ]
  },
  {
   "cell_type": "code",
   "execution_count": 9,
   "id": "ec3ba1e2-9ac7-4d82-877e-d4f410d5664b",
   "metadata": {
    "scrolled": true
   },
   "outputs": [
    {
     "data": {
      "text/plain": [
       "fen             r7/pp1Bkpp1/5q1p/4n3/3Q4/7P/PPP3P1/1K1RR3 b - -\n",
       "white_result                                                win\n",
       "Name: 49186, dtype: object"
      ]
     },
     "execution_count": 9,
     "metadata": {},
     "output_type": "execute_result"
    }
   ],
   "source": [
    "pd.options.display.large_repr\n",
    "data.sample(frac=1).iloc[0][['fen','white_result']]"
   ]
  },
  {
   "cell_type": "code",
   "execution_count": 11,
   "id": "ea0dc4b4-bdf3-44a8-a499-afa66174c34e",
   "metadata": {},
   "outputs": [],
   "source": [
    "data = data[['white_result','black_result','pgn']]"
   ]
  },
  {
   "cell_type": "markdown",
   "id": "4b8cccb4-5f4b-4517-b208-8eb6eae67563",
   "metadata": {},
   "source": [
    "**Keep only finished win/loose game, then shuffle**"
   ]
  },
  {
   "cell_type": "code",
   "execution_count": 12,
   "id": "7bbdd210-7b27-443f-b6ab-b018fce6187b",
   "metadata": {},
   "outputs": [],
   "source": [
    "status = ['timeout','repetition','timevsinsufficient','stalemate','insufficient','agreed','threecheck','kingofthehill','50move']\n",
    "sample = data[(~data['white_result'].isin(status))&(~data['black_result'].isin(status))].sample(frac=1).reset_index(drop=True)"
   ]
  },
  {
   "cell_type": "markdown",
   "id": "c5eae1d0-f3ea-4981-a7cb-38d1087e430c",
   "metadata": {},
   "source": [
    "**Add game result / target**"
   ]
  },
  {
   "cell_type": "code",
   "execution_count": 13,
   "id": "216d8a0f-6116-4afa-8f84-55130e577d99",
   "metadata": {},
   "outputs": [],
   "source": [
    "sample['result'] = sample['white_result'].map(lambda X: 1 if X=='win' else 0) "
   ]
  },
  {
   "cell_type": "markdown",
   "id": "68d1abf4-ed4b-475c-b85b-09ac280ccc9f",
   "metadata": {},
   "source": [
    "**Get a data sample to reduce the preprocessing and modelizing time**"
   ]
  },
  {
   "cell_type": "code",
   "execution_count": 14,
   "id": "d23fe12b-2289-4bf1-b147-37c9744b4cf9",
   "metadata": {},
   "outputs": [],
   "source": [
    "X_train_game = sample.drop(columns='result')\n",
    "y_train_game = sample['result']"
   ]
  },
  {
   "cell_type": "markdown",
   "id": "c45bc7d4-fab7-4924-9a52-69ec2d869ed6",
   "metadata": {},
   "source": [
    "**Transform the train dataset into a usable 64 columns dataset**"
   ]
  },
  {
   "cell_type": "code",
   "execution_count": 17,
   "id": "7802da78-64e6-4c58-b35d-f8f406b325ff",
   "metadata": {},
   "outputs": [],
   "source": [
    "df_preprocessed = transform_dataset(X_train_game,y_train_game,50,200)"
   ]
  },
  {
   "cell_type": "markdown",
   "id": "70a314d0-65a8-437a-a0b1-ead0a16021f2",
   "metadata": {},
   "source": [
    "**Store preprocessed data into csv**"
   ]
  },
  {
   "cell_type": "code",
   "execution_count": 18,
   "id": "7aa0d1ba-6d7f-4e15-a39e-40aeeb8d7424",
   "metadata": {},
   "outputs": [],
   "source": [
    "df_preprocessed.to_csv('../raw_data/club_games_data_preprocessed.csv',index=False)"
   ]
  },
  {
   "cell_type": "markdown",
   "id": "e03be7e2-c137-455b-9cbe-7dbc3c80d064",
   "metadata": {},
   "source": [
    "# Model Training part\n"
   ]
  },
  {
   "cell_type": "markdown",
   "id": "8edc7ddb-3656-4510-b5ae-bdd367f38749",
   "metadata": {},
   "source": [
    "**Get the preprocessed dataset**"
   ]
  },
  {
   "cell_type": "code",
   "execution_count": 19,
   "id": "75bfc4a4-a4fb-4e0a-b142-9bfcdaa723ac",
   "metadata": {},
   "outputs": [],
   "source": [
    "df_preprocessed = pd.read_csv('../raw_data/club_games_data_preprocessed.csv')\n",
    "df_preprocessed.columns=range(0,65)"
   ]
  },
  {
   "cell_type": "code",
   "execution_count": 20,
   "id": "a9d41bc1-43d8-4b63-80af-c02d39c7edbd",
   "metadata": {},
   "outputs": [
    {
     "data": {
      "text/html": [
       "<div>\n",
       "<style scoped>\n",
       "    .dataframe tbody tr th:only-of-type {\n",
       "        vertical-align: middle;\n",
       "    }\n",
       "\n",
       "    .dataframe tbody tr th {\n",
       "        vertical-align: top;\n",
       "    }\n",
       "\n",
       "    .dataframe thead th {\n",
       "        text-align: right;\n",
       "    }\n",
       "</style>\n",
       "<table border=\"1\" class=\"dataframe\">\n",
       "  <thead>\n",
       "    <tr style=\"text-align: right;\">\n",
       "      <th></th>\n",
       "      <th>0</th>\n",
       "      <th>1</th>\n",
       "      <th>2</th>\n",
       "      <th>3</th>\n",
       "      <th>4</th>\n",
       "      <th>5</th>\n",
       "      <th>6</th>\n",
       "      <th>7</th>\n",
       "      <th>8</th>\n",
       "      <th>9</th>\n",
       "      <th>...</th>\n",
       "      <th>55</th>\n",
       "      <th>56</th>\n",
       "      <th>57</th>\n",
       "      <th>58</th>\n",
       "      <th>59</th>\n",
       "      <th>60</th>\n",
       "      <th>61</th>\n",
       "      <th>62</th>\n",
       "      <th>63</th>\n",
       "      <th>64</th>\n",
       "    </tr>\n",
       "  </thead>\n",
       "  <tbody>\n",
       "    <tr>\n",
       "      <th>0</th>\n",
       "      <td>4</td>\n",
       "      <td>2</td>\n",
       "      <td>3</td>\n",
       "      <td>5</td>\n",
       "      <td>6</td>\n",
       "      <td>3</td>\n",
       "      <td>2</td>\n",
       "      <td>4</td>\n",
       "      <td>1</td>\n",
       "      <td>1</td>\n",
       "      <td>...</td>\n",
       "      <td>7</td>\n",
       "      <td>10</td>\n",
       "      <td>8</td>\n",
       "      <td>9</td>\n",
       "      <td>11</td>\n",
       "      <td>12</td>\n",
       "      <td>9</td>\n",
       "      <td>8</td>\n",
       "      <td>10</td>\n",
       "      <td>0</td>\n",
       "    </tr>\n",
       "    <tr>\n",
       "      <th>1</th>\n",
       "      <td>4</td>\n",
       "      <td>2</td>\n",
       "      <td>3</td>\n",
       "      <td>5</td>\n",
       "      <td>6</td>\n",
       "      <td>3</td>\n",
       "      <td>2</td>\n",
       "      <td>4</td>\n",
       "      <td>1</td>\n",
       "      <td>1</td>\n",
       "      <td>...</td>\n",
       "      <td>7</td>\n",
       "      <td>10</td>\n",
       "      <td>8</td>\n",
       "      <td>9</td>\n",
       "      <td>11</td>\n",
       "      <td>12</td>\n",
       "      <td>9</td>\n",
       "      <td>8</td>\n",
       "      <td>10</td>\n",
       "      <td>0</td>\n",
       "    </tr>\n",
       "    <tr>\n",
       "      <th>2</th>\n",
       "      <td>4</td>\n",
       "      <td>2</td>\n",
       "      <td>3</td>\n",
       "      <td>5</td>\n",
       "      <td>6</td>\n",
       "      <td>3</td>\n",
       "      <td>0</td>\n",
       "      <td>4</td>\n",
       "      <td>1</td>\n",
       "      <td>1</td>\n",
       "      <td>...</td>\n",
       "      <td>7</td>\n",
       "      <td>10</td>\n",
       "      <td>8</td>\n",
       "      <td>9</td>\n",
       "      <td>11</td>\n",
       "      <td>12</td>\n",
       "      <td>9</td>\n",
       "      <td>8</td>\n",
       "      <td>10</td>\n",
       "      <td>0</td>\n",
       "    </tr>\n",
       "    <tr>\n",
       "      <th>3</th>\n",
       "      <td>4</td>\n",
       "      <td>2</td>\n",
       "      <td>3</td>\n",
       "      <td>5</td>\n",
       "      <td>6</td>\n",
       "      <td>3</td>\n",
       "      <td>0</td>\n",
       "      <td>4</td>\n",
       "      <td>1</td>\n",
       "      <td>1</td>\n",
       "      <td>...</td>\n",
       "      <td>7</td>\n",
       "      <td>10</td>\n",
       "      <td>0</td>\n",
       "      <td>9</td>\n",
       "      <td>11</td>\n",
       "      <td>12</td>\n",
       "      <td>9</td>\n",
       "      <td>8</td>\n",
       "      <td>10</td>\n",
       "      <td>0</td>\n",
       "    </tr>\n",
       "    <tr>\n",
       "      <th>4</th>\n",
       "      <td>4</td>\n",
       "      <td>2</td>\n",
       "      <td>3</td>\n",
       "      <td>5</td>\n",
       "      <td>6</td>\n",
       "      <td>0</td>\n",
       "      <td>0</td>\n",
       "      <td>4</td>\n",
       "      <td>1</td>\n",
       "      <td>1</td>\n",
       "      <td>...</td>\n",
       "      <td>7</td>\n",
       "      <td>10</td>\n",
       "      <td>0</td>\n",
       "      <td>9</td>\n",
       "      <td>11</td>\n",
       "      <td>12</td>\n",
       "      <td>9</td>\n",
       "      <td>8</td>\n",
       "      <td>10</td>\n",
       "      <td>0</td>\n",
       "    </tr>\n",
       "    <tr>\n",
       "      <th>...</th>\n",
       "      <td>...</td>\n",
       "      <td>...</td>\n",
       "      <td>...</td>\n",
       "      <td>...</td>\n",
       "      <td>...</td>\n",
       "      <td>...</td>\n",
       "      <td>...</td>\n",
       "      <td>...</td>\n",
       "      <td>...</td>\n",
       "      <td>...</td>\n",
       "      <td>...</td>\n",
       "      <td>...</td>\n",
       "      <td>...</td>\n",
       "      <td>...</td>\n",
       "      <td>...</td>\n",
       "      <td>...</td>\n",
       "      <td>...</td>\n",
       "      <td>...</td>\n",
       "      <td>...</td>\n",
       "      <td>...</td>\n",
       "      <td>...</td>\n",
       "    </tr>\n",
       "    <tr>\n",
       "      <th>1788243</th>\n",
       "      <td>0</td>\n",
       "      <td>0</td>\n",
       "      <td>0</td>\n",
       "      <td>0</td>\n",
       "      <td>0</td>\n",
       "      <td>4</td>\n",
       "      <td>0</td>\n",
       "      <td>0</td>\n",
       "      <td>1</td>\n",
       "      <td>0</td>\n",
       "      <td>...</td>\n",
       "      <td>7</td>\n",
       "      <td>0</td>\n",
       "      <td>0</td>\n",
       "      <td>0</td>\n",
       "      <td>0</td>\n",
       "      <td>0</td>\n",
       "      <td>10</td>\n",
       "      <td>12</td>\n",
       "      <td>0</td>\n",
       "      <td>1</td>\n",
       "    </tr>\n",
       "    <tr>\n",
       "      <th>1788244</th>\n",
       "      <td>0</td>\n",
       "      <td>0</td>\n",
       "      <td>0</td>\n",
       "      <td>0</td>\n",
       "      <td>0</td>\n",
       "      <td>4</td>\n",
       "      <td>0</td>\n",
       "      <td>0</td>\n",
       "      <td>1</td>\n",
       "      <td>0</td>\n",
       "      <td>...</td>\n",
       "      <td>7</td>\n",
       "      <td>0</td>\n",
       "      <td>0</td>\n",
       "      <td>0</td>\n",
       "      <td>0</td>\n",
       "      <td>0</td>\n",
       "      <td>10</td>\n",
       "      <td>12</td>\n",
       "      <td>0</td>\n",
       "      <td>1</td>\n",
       "    </tr>\n",
       "    <tr>\n",
       "      <th>1788245</th>\n",
       "      <td>0</td>\n",
       "      <td>0</td>\n",
       "      <td>0</td>\n",
       "      <td>0</td>\n",
       "      <td>0</td>\n",
       "      <td>4</td>\n",
       "      <td>0</td>\n",
       "      <td>0</td>\n",
       "      <td>1</td>\n",
       "      <td>0</td>\n",
       "      <td>...</td>\n",
       "      <td>7</td>\n",
       "      <td>0</td>\n",
       "      <td>0</td>\n",
       "      <td>0</td>\n",
       "      <td>0</td>\n",
       "      <td>0</td>\n",
       "      <td>10</td>\n",
       "      <td>12</td>\n",
       "      <td>0</td>\n",
       "      <td>1</td>\n",
       "    </tr>\n",
       "    <tr>\n",
       "      <th>1788246</th>\n",
       "      <td>0</td>\n",
       "      <td>0</td>\n",
       "      <td>0</td>\n",
       "      <td>0</td>\n",
       "      <td>0</td>\n",
       "      <td>4</td>\n",
       "      <td>0</td>\n",
       "      <td>0</td>\n",
       "      <td>1</td>\n",
       "      <td>0</td>\n",
       "      <td>...</td>\n",
       "      <td>7</td>\n",
       "      <td>0</td>\n",
       "      <td>0</td>\n",
       "      <td>0</td>\n",
       "      <td>0</td>\n",
       "      <td>0</td>\n",
       "      <td>10</td>\n",
       "      <td>12</td>\n",
       "      <td>0</td>\n",
       "      <td>1</td>\n",
       "    </tr>\n",
       "    <tr>\n",
       "      <th>1788247</th>\n",
       "      <td>0</td>\n",
       "      <td>0</td>\n",
       "      <td>0</td>\n",
       "      <td>0</td>\n",
       "      <td>0</td>\n",
       "      <td>4</td>\n",
       "      <td>0</td>\n",
       "      <td>0</td>\n",
       "      <td>1</td>\n",
       "      <td>0</td>\n",
       "      <td>...</td>\n",
       "      <td>7</td>\n",
       "      <td>0</td>\n",
       "      <td>0</td>\n",
       "      <td>0</td>\n",
       "      <td>0</td>\n",
       "      <td>0</td>\n",
       "      <td>10</td>\n",
       "      <td>12</td>\n",
       "      <td>0</td>\n",
       "      <td>1</td>\n",
       "    </tr>\n",
       "  </tbody>\n",
       "</table>\n",
       "<p>1788248 rows × 65 columns</p>\n",
       "</div>"
      ],
      "text/plain": [
       "         0   1   2   3   4   5   6   7   8   9   ...  55  56  57  58  59  60  \\\n",
       "0         4   2   3   5   6   3   2   4   1   1  ...   7  10   8   9  11  12   \n",
       "1         4   2   3   5   6   3   2   4   1   1  ...   7  10   8   9  11  12   \n",
       "2         4   2   3   5   6   3   0   4   1   1  ...   7  10   8   9  11  12   \n",
       "3         4   2   3   5   6   3   0   4   1   1  ...   7  10   0   9  11  12   \n",
       "4         4   2   3   5   6   0   0   4   1   1  ...   7  10   0   9  11  12   \n",
       "...      ..  ..  ..  ..  ..  ..  ..  ..  ..  ..  ...  ..  ..  ..  ..  ..  ..   \n",
       "1788243   0   0   0   0   0   4   0   0   1   0  ...   7   0   0   0   0   0   \n",
       "1788244   0   0   0   0   0   4   0   0   1   0  ...   7   0   0   0   0   0   \n",
       "1788245   0   0   0   0   0   4   0   0   1   0  ...   7   0   0   0   0   0   \n",
       "1788246   0   0   0   0   0   4   0   0   1   0  ...   7   0   0   0   0   0   \n",
       "1788247   0   0   0   0   0   4   0   0   1   0  ...   7   0   0   0   0   0   \n",
       "\n",
       "         61  62  63  64  \n",
       "0         9   8  10   0  \n",
       "1         9   8  10   0  \n",
       "2         9   8  10   0  \n",
       "3         9   8  10   0  \n",
       "4         9   8  10   0  \n",
       "...      ..  ..  ..  ..  \n",
       "1788243  10  12   0   1  \n",
       "1788244  10  12   0   1  \n",
       "1788245  10  12   0   1  \n",
       "1788246  10  12   0   1  \n",
       "1788247  10  12   0   1  \n",
       "\n",
       "[1788248 rows x 65 columns]"
      ]
     },
     "execution_count": 20,
     "metadata": {},
     "output_type": "execute_result"
    }
   ],
   "source": [
    "df_preprocessed"
   ]
  },
  {
   "cell_type": "markdown",
   "id": "def0fe99-3cdb-4b05-80b1-efb32d0c8799",
   "metadata": {},
   "source": [
    "**Define features X and target y for the model training**"
   ]
  },
  {
   "cell_type": "code",
   "execution_count": 21,
   "id": "96c3914b-cfc4-4bfc-9cbf-e9df3d3de70c",
   "metadata": {},
   "outputs": [],
   "source": [
    "## shuffle sample\n",
    "sample = df_preprocessed.sample(frac = 1)\n",
    "## define features and target\n",
    "X = sample.drop(columns=64)\n",
    "y = sample[64]"
   ]
  },
  {
   "cell_type": "markdown",
   "id": "8687cd8c-1625-4948-8de6-fa66d4a614cf",
   "metadata": {},
   "source": [
    "**Train and test split**"
   ]
  },
  {
   "cell_type": "code",
   "execution_count": 44,
   "id": "481ead7b-90d4-4e7a-9be3-6ac407338bd7",
   "metadata": {},
   "outputs": [],
   "source": [
    "# define the train and test split\n",
    "X_train, X_test, y_train, y_test= train_test_split(X,y,test_size=0.50,random_state=42)"
   ]
  },
  {
   "cell_type": "code",
   "execution_count": 45,
   "id": "24c0839d-3edb-41b2-999a-e17dfcea9c47",
   "metadata": {},
   "outputs": [
    {
     "data": {
      "text/plain": [
       "(894124, 64)"
      ]
     },
     "execution_count": 45,
     "metadata": {},
     "output_type": "execute_result"
    }
   ],
   "source": [
    "X_train.shape"
   ]
  },
  {
   "cell_type": "markdown",
   "id": "fc27956a-13f3-4e23-bf68-1d7941ba0900",
   "metadata": {},
   "source": [
    "**Grid search on gradient boosting classifier**"
   ]
  },
  {
   "cell_type": "code",
   "execution_count": 28,
   "id": "78e292dc-7cf0-43de-bc9f-4d7f41c20d21",
   "metadata": {},
   "outputs": [],
   "source": [
    "grid_search = GridSearchCV(\n",
    "    GradientBoostingClassifier(),\n",
    "    param_grid={\n",
    "        'n_estimators':[300],\n",
    "        'max_depth':[14],\n",
    "        'learning_rate':[0.05]\n",
    "    },\n",
    "    cv=5,\n",
    "    verbose=2,\n",
    "    return_train_score=True,\n",
    "    scoring='accuracy')\n",
    "\n",
    "#grid_search.get_params()"
   ]
  },
  {
   "cell_type": "markdown",
   "id": "286375d3-b8d3-4232-b283-6062b9ba9610",
   "metadata": {},
   "source": [
    "**Fit the search and get the best model**"
   ]
  },
  {
   "cell_type": "code",
   "execution_count": 29,
   "id": "5d204693-5466-4017-ab0e-d87d8c8de935",
   "metadata": {},
   "outputs": [
    {
     "name": "stdout",
     "output_type": "stream",
     "text": [
      "Fitting 5 folds for each of 1 candidates, totalling 5 fits\n",
      "[CV] END .learning_rate=0.05, max_depth=14, n_estimators=300; total time= 6.6min\n",
      "[CV] END .learning_rate=0.05, max_depth=14, n_estimators=300; total time= 6.2min\n",
      "[CV] END .learning_rate=0.05, max_depth=14, n_estimators=300; total time= 6.2min\n",
      "[CV] END .learning_rate=0.05, max_depth=14, n_estimators=300; total time= 6.3min\n",
      "[CV] END .learning_rate=0.05, max_depth=14, n_estimators=300; total time= 6.2min\n"
     ]
    },
    {
     "data": {
      "text/plain": [
       "({'learning_rate': 0.05, 'max_depth': 14, 'n_estimators': 300},\n",
       " 0.7269699192956713)"
      ]
     },
     "execution_count": 29,
     "metadata": {},
     "output_type": "execute_result"
    }
   ],
   "source": [
    "grid_search.fit(X_train, y_train)\n",
    "grid_search.best_params_,grid_search.best_score_"
   ]
  },
  {
   "cell_type": "markdown",
   "id": "f02e935f-1923-4134-97b7-bb8b9d78e9e7",
   "metadata": {},
   "source": [
    "**Test the accuracy on test split**"
   ]
  },
  {
   "cell_type": "code",
   "execution_count": 30,
   "id": "6ab512e5-ee1e-4608-9cd5-39f0161afc57",
   "metadata": {},
   "outputs": [],
   "source": [
    "best_model = grid_search.best_estimator_"
   ]
  },
  {
   "cell_type": "code",
   "execution_count": 31,
   "id": "6216cb42-d701-4d6b-a6e3-c1e0039941eb",
   "metadata": {},
   "outputs": [
    {
     "data": {
      "text/plain": [
       "0.743464810202942"
      ]
     },
     "execution_count": 31,
     "metadata": {},
     "output_type": "execute_result"
    }
   ],
   "source": [
    "best_model.score(X_test,y_test)"
   ]
  },
  {
   "cell_type": "markdown",
   "id": "3f6f83fc-112c-4b95-ae97-537c27b214b3",
   "metadata": {},
   "source": [
    "**Train the best model directly**"
   ]
  },
  {
   "cell_type": "code",
   "execution_count": 46,
   "id": "2d33bf2e-96ac-475d-bb9c-b6ab2c78046a",
   "metadata": {},
   "outputs": [
    {
     "name": "stdout",
     "output_type": "stream",
     "text": [
      "CPU times: user 1h 15min 30s, sys: 108 ms, total: 1h 15min 31s\n",
      "Wall time: 1h 15min 30s\n"
     ]
    }
   ],
   "source": [
    "%%time\n",
    "BM = GradientBoostingClassifier(max_depth=14,n_estimators=300,learning_rate=0.5).fit(X_train, y_train)"
   ]
  },
  {
   "cell_type": "code",
   "execution_count": 47,
   "id": "3ecd6d0a-37b9-457f-aa61-1860a7b39459",
   "metadata": {},
   "outputs": [
    {
     "data": {
      "text/plain": [
       "0.9050836349320676"
      ]
     },
     "execution_count": 47,
     "metadata": {},
     "output_type": "execute_result"
    }
   ],
   "source": [
    "BM.score(X_test,y_test)"
   ]
  },
  {
   "cell_type": "markdown",
   "id": "1dd6c3e1-4231-4f98-91de-4becda301366",
   "metadata": {},
   "source": [
    "**Save the best model**"
   ]
  },
  {
   "cell_type": "code",
   "execution_count": 48,
   "id": "6af0954f-2dbc-4ac3-9053-7b91955a4f02",
   "metadata": {},
   "outputs": [],
   "source": [
    "import pickle\n",
    "import bz2\n",
    "import _pickle as cPickle\n",
    "\n",
    "# save compressed pickle \n",
    "model_pkl_file_compressed = \"../backend/model/chess_winner_classifier_model.pbz2\" \n",
    "\n",
    "with bz2.BZ2File(model_pkl_file_compressed, 'wb') as file: \n",
    "    cPickle.dump(BM, file)"
   ]
  },
  {
   "cell_type": "code",
   "execution_count": 38,
   "id": "2c637ff8-8183-4bcc-835d-3b73db8f6f89",
   "metadata": {},
   "outputs": [
    {
     "name": "stdout",
     "output_type": "stream",
     "text": [
      "/home/farid/code/faruto33/chess_winner/notebook\n"
     ]
    }
   ],
   "source": [
    "!pwd"
   ]
  },
  {
   "cell_type": "markdown",
   "id": "2ad98789-d435-4de3-b093-0ecbe049877e",
   "metadata": {},
   "source": [
    "**Make some predictions on random sample from the test split**"
   ]
  },
  {
   "cell_type": "code",
   "execution_count": 94,
   "id": "4d389ebe-807c-4477-9d31-648869f95d82",
   "metadata": {},
   "outputs": [
    {
     "data": {
      "text/plain": [
       "array([[0.55512813, 0.44487187],\n",
       "       [0.4826486 , 0.5173514 ],\n",
       "       [0.72982659, 0.27017341],\n",
       "       ...,\n",
       "       [0.61838287, 0.38161713],\n",
       "       [0.19915088, 0.80084912],\n",
       "       [0.63667307, 0.36332693]])"
      ]
     },
     "execution_count": 94,
     "metadata": {},
     "output_type": "execute_result"
    }
   ],
   "source": [
    "best_model.predict_proba(X_test.sample(frac=1).iloc[0:1000])"
   ]
  },
  {
   "cell_type": "markdown",
   "id": "ea2cb48b-fccd-4b7b-a255-cc56d51064dd",
   "metadata": {},
   "source": [
    "**Compare the shape of test vs train**"
   ]
  },
  {
   "cell_type": "code",
   "execution_count": 95,
   "id": "0b4ef90e-fe7a-4a9e-86bd-f9f9dcf12dbd",
   "metadata": {},
   "outputs": [
    {
     "data": {
      "text/plain": [
       "((863192, 64), (499813, 64))"
      ]
     },
     "execution_count": 95,
     "metadata": {},
     "output_type": "execute_result"
    }
   ],
   "source": [
    "X_test.shape,X_train.shape"
   ]
  }
 ],
 "metadata": {
  "kernelspec": {
   "display_name": "Python 3 (ipykernel)",
   "language": "python",
   "name": "python3"
  },
  "language_info": {
   "codemirror_mode": {
    "name": "ipython",
    "version": 3
   },
   "file_extension": ".py",
   "mimetype": "text/x-python",
   "name": "python",
   "nbconvert_exporter": "python",
   "pygments_lexer": "ipython3",
   "version": "3.10.6"
  },
  "toc": {
   "base_numbering": 1,
   "nav_menu": {},
   "number_sections": true,
   "sideBar": true,
   "skip_h1_title": false,
   "title_cell": "Table of Contents",
   "title_sidebar": "Contents",
   "toc_cell": false,
   "toc_position": {},
   "toc_section_display": true,
   "toc_window_display": false
  }
 },
 "nbformat": 4,
 "nbformat_minor": 5
}
