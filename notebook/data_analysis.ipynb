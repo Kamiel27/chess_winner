{
 "cells": [
  {
   "cell_type": "markdown",
   "id": "2d892ede-00ed-462c-9bbe-2a8f07619304",
   "metadata": {},
   "source": [
    "**Import packages**"
   ]
  },
  {
   "cell_type": "code",
   "execution_count": 1,
   "id": "0950d6c6",
   "metadata": {},
   "outputs": [],
   "source": [
    "import pandas as pd\n",
    "import numpy as np\n",
    "import re\n",
    "import chess\n",
    "\n",
    "from sklearn.neighbors import KNeighborsClassifier\n",
    "from sklearn.pipeline import Pipeline,make_pipeline\n",
    "from sklearn.preprocessing import OneHotEncoder\n",
    "from sklearn.ensemble import RandomForestClassifier,GradientBoostingClassifier\n",
    "from sklearn.model_selection import train_test_split, GridSearchCV\n",
    "from xgboost import XGBClassifier\n",
    "\n",
    "# import from chess winner package \n",
    "from chess_winner.board import Board64\n",
    "from chess_winner.utils import transform_dataset"
   ]
  },
  {
   "cell_type": "markdown",
   "id": "b3981504-82bd-4721-ae8c-4575fe809241",
   "metadata": {},
   "source": [
    "# Preprocess dataset"
   ]
  },
  {
   "cell_type": "markdown",
   "id": "b532d1d7-fd7b-49e8-87cf-7623050d19eb",
   "metadata": {},
   "source": [
    "**Extract from the dataset**"
   ]
  },
  {
   "cell_type": "code",
   "execution_count": 2,
   "id": "eb69869a-67b2-483d-94ca-807f7113153f",
   "metadata": {},
   "outputs": [],
   "source": [
    "data = pd.read_csv('../raw_data/club_games_data.csv')\n",
    "data = data[['white_result','black_result','pgn']]"
   ]
  },
  {
   "cell_type": "markdown",
   "id": "4b8cccb4-5f4b-4517-b208-8eb6eae67563",
   "metadata": {},
   "source": [
    "**Keep only finished win/loose game, then shuffle**"
   ]
  },
  {
   "cell_type": "code",
   "execution_count": 3,
   "id": "7bbdd210-7b27-443f-b6ab-b018fce6187b",
   "metadata": {},
   "outputs": [],
   "source": [
    "status = ['timeout','repetition','timevsinsufficient','stalemate','insufficient','agreed','threecheck','kingofthehill','50move']\n",
    "sample = data[(~data['white_result'].isin(status))&(~data['black_result'].isin(status))].sample(frac=1).reset_index(drop=True)"
   ]
  },
  {
   "cell_type": "markdown",
   "id": "c5eae1d0-f3ea-4981-a7cb-38d1087e430c",
   "metadata": {},
   "source": [
    "**Add game result / target**"
   ]
  },
  {
   "cell_type": "code",
   "execution_count": 4,
   "id": "216d8a0f-6116-4afa-8f84-55130e577d99",
   "metadata": {},
   "outputs": [],
   "source": [
    "sample['result'] = sample['white_result'].map(lambda X: 1 if X=='win' else 0) "
   ]
  },
  {
   "cell_type": "markdown",
   "id": "68d1abf4-ed4b-475c-b85b-09ac280ccc9f",
   "metadata": {},
   "source": [
    "**Get a data sample to reduce the preprocessing and modelizing time**"
   ]
  },
  {
   "cell_type": "code",
   "execution_count": 5,
   "id": "d23fe12b-2289-4bf1-b147-37c9744b4cf9",
   "metadata": {},
   "outputs": [],
   "source": [
    "X_train_game = sample.drop(columns='result')\n",
    "y_train_game = sample['result']"
   ]
  },
  {
   "cell_type": "markdown",
   "id": "c45bc7d4-fab7-4924-9a52-69ec2d869ed6",
   "metadata": {},
   "source": [
    "**Transform the train dataset into a usable 64 columns dataset**"
   ]
  },
  {
   "cell_type": "code",
   "execution_count": 21,
   "id": "7802da78-64e6-4c58-b35d-f8f406b325ff",
   "metadata": {},
   "outputs": [],
   "source": [
    "df_preprocessed = transform_dataset(X_train_game,y_train_game,50,100)"
   ]
  },
  {
   "cell_type": "markdown",
   "id": "70a314d0-65a8-437a-a0b1-ead0a16021f2",
   "metadata": {},
   "source": [
    "**Store preprocessed data into csv**"
   ]
  },
  {
   "cell_type": "code",
   "execution_count": 22,
   "id": "7aa0d1ba-6d7f-4e15-a39e-40aeeb8d7424",
   "metadata": {},
   "outputs": [],
   "source": [
    "df_preprocessed.to_csv('../raw_data/club_games_data_preprocessed.csv',index=False)"
   ]
  },
  {
   "cell_type": "markdown",
   "id": "e03be7e2-c137-455b-9cbe-7dbc3c80d064",
   "metadata": {},
   "source": [
    "# Model Training part\n"
   ]
  },
  {
   "cell_type": "markdown",
   "id": "8edc7ddb-3656-4510-b5ae-bdd367f38749",
   "metadata": {},
   "source": [
    "**Get the preprocessed dataset**"
   ]
  },
  {
   "cell_type": "code",
   "execution_count": 24,
   "id": "75bfc4a4-a4fb-4e0a-b142-9bfcdaa723ac",
   "metadata": {},
   "outputs": [],
   "source": [
    "df_preprocessed = pd.read_csv('../raw_data/club_games_data_preprocessed.csv')\n",
    "df_preprocessed.columns=range(0,65)"
   ]
  },
  {
   "cell_type": "markdown",
   "id": "def0fe99-3cdb-4b05-80b1-efb32d0c8799",
   "metadata": {},
   "source": [
    "**Define features X and target y for the model training**"
   ]
  },
  {
   "cell_type": "code",
   "execution_count": 25,
   "id": "96c3914b-cfc4-4bfc-9cbf-e9df3d3de70c",
   "metadata": {},
   "outputs": [],
   "source": [
    "## shuffle sample\n",
    "sample = df_preprocessed.sample(frac = 1)\n",
    "## define features and target\n",
    "X = sample.drop(columns=64)\n",
    "y = sample[64]"
   ]
  },
  {
   "cell_type": "markdown",
   "id": "8687cd8c-1625-4948-8de6-fa66d4a614cf",
   "metadata": {},
   "source": [
    "**Train and test split**"
   ]
  },
  {
   "cell_type": "code",
   "execution_count": 42,
   "id": "481ead7b-90d4-4e7a-9be3-6ac407338bd7",
   "metadata": {},
   "outputs": [],
   "source": [
    "# define the train and test split\n",
    "X_train, X_test, y_train, y_test= train_test_split(X,y,test_size=0.78,random_state=42)"
   ]
  },
  {
   "cell_type": "code",
   "execution_count": 43,
   "id": "24c0839d-3edb-41b2-999a-e17dfcea9c47",
   "metadata": {},
   "outputs": [
    {
     "data": {
      "text/plain": [
       "(299861, 64)"
      ]
     },
     "execution_count": 43,
     "metadata": {},
     "output_type": "execute_result"
    }
   ],
   "source": [
    "X_train.shape"
   ]
  },
  {
   "cell_type": "markdown",
   "id": "fc27956a-13f3-4e23-bf68-1d7941ba0900",
   "metadata": {},
   "source": [
    "**Grid search on gradient boosting classifier**"
   ]
  },
  {
   "cell_type": "code",
   "execution_count": 28,
   "id": "78e292dc-7cf0-43de-bc9f-4d7f41c20d21",
   "metadata": {},
   "outputs": [],
   "source": [
    "grid_search = GridSearchCV(\n",
    "    GradientBoostingClassifier(),\n",
    "    param_grid={\n",
    "        'n_estimators':[300],\n",
    "        'max_depth':[14],\n",
    "        'learning_rate':[0.05]\n",
    "    },\n",
    "    cv=5,\n",
    "    verbose=2,\n",
    "    return_train_score=True,\n",
    "    scoring='accuracy')\n",
    "\n",
    "#grid_search.get_params()"
   ]
  },
  {
   "cell_type": "markdown",
   "id": "286375d3-b8d3-4232-b283-6062b9ba9610",
   "metadata": {},
   "source": [
    "**Fit the search and get the best model**"
   ]
  },
  {
   "cell_type": "code",
   "execution_count": 29,
   "id": "5d204693-5466-4017-ab0e-d87d8c8de935",
   "metadata": {},
   "outputs": [
    {
     "name": "stdout",
     "output_type": "stream",
     "text": [
      "Fitting 5 folds for each of 1 candidates, totalling 5 fits\n",
      "[CV] END .learning_rate=0.05, max_depth=14, n_estimators=300; total time= 6.6min\n",
      "[CV] END .learning_rate=0.05, max_depth=14, n_estimators=300; total time= 6.2min\n",
      "[CV] END .learning_rate=0.05, max_depth=14, n_estimators=300; total time= 6.2min\n",
      "[CV] END .learning_rate=0.05, max_depth=14, n_estimators=300; total time= 6.3min\n",
      "[CV] END .learning_rate=0.05, max_depth=14, n_estimators=300; total time= 6.2min\n"
     ]
    },
    {
     "data": {
      "text/plain": [
       "({'learning_rate': 0.05, 'max_depth': 14, 'n_estimators': 300},\n",
       " 0.7269699192956713)"
      ]
     },
     "execution_count": 29,
     "metadata": {},
     "output_type": "execute_result"
    }
   ],
   "source": [
    "grid_search.fit(X_train, y_train)\n",
    "grid_search.best_params_,grid_search.best_score_"
   ]
  },
  {
   "cell_type": "markdown",
   "id": "f02e935f-1923-4134-97b7-bb8b9d78e9e7",
   "metadata": {},
   "source": [
    "**Test the accuracy on test split**"
   ]
  },
  {
   "cell_type": "code",
   "execution_count": 30,
   "id": "6ab512e5-ee1e-4608-9cd5-39f0161afc57",
   "metadata": {},
   "outputs": [],
   "source": [
    "best_model = grid_search.best_estimator_"
   ]
  },
  {
   "cell_type": "code",
   "execution_count": 31,
   "id": "6216cb42-d701-4d6b-a6e3-c1e0039941eb",
   "metadata": {},
   "outputs": [
    {
     "data": {
      "text/plain": [
       "0.743464810202942"
      ]
     },
     "execution_count": 31,
     "metadata": {},
     "output_type": "execute_result"
    }
   ],
   "source": [
    "best_model.score(X_test,y_test)"
   ]
  },
  {
   "cell_type": "code",
   "execution_count": null,
   "id": "2d33bf2e-96ac-475d-bb9c-b6ab2c78046a",
   "metadata": {},
   "outputs": [],
   "source": [
    "%%time\n",
    "BM = GradientBoostingClassifier(max_depth=14,n_estimators=300,learning_rate=0.5).fit(X_train, y_train)"
   ]
  },
  {
   "cell_type": "code",
   "execution_count": 136,
   "id": "3ecd6d0a-37b9-457f-aa61-1860a7b39459",
   "metadata": {},
   "outputs": [
    {
     "data": {
      "text/plain": [
       "0.7586885192446432"
      ]
     },
     "execution_count": 136,
     "metadata": {},
     "output_type": "execute_result"
    }
   ],
   "source": [
    "BM.score(X_test,y_test)"
   ]
  },
  {
   "cell_type": "markdown",
   "id": "2ad98789-d435-4de3-b093-0ecbe049877e",
   "metadata": {},
   "source": [
    "**Make some predictions on random sample from the test split**"
   ]
  },
  {
   "cell_type": "code",
   "execution_count": 112,
   "id": "4d389ebe-807c-4477-9d31-648869f95d82",
   "metadata": {},
   "outputs": [
    {
     "data": {
      "text/plain": [
       "array([[0.04656869, 0.95343131],\n",
       "       [0.66873966, 0.33126034],\n",
       "       [0.08090063, 0.91909937],\n",
       "       ...,\n",
       "       [0.67111829, 0.32888171],\n",
       "       [0.68754917, 0.31245083],\n",
       "       [0.34761353, 0.65238647]])"
      ]
     },
     "execution_count": 112,
     "metadata": {},
     "output_type": "execute_result"
    }
   ],
   "source": [
    "best_model.predict_proba(X_test.sample(frac=1).iloc[0:1000])"
   ]
  },
  {
   "cell_type": "markdown",
   "id": "ea2cb48b-fccd-4b7b-a255-cc56d51064dd",
   "metadata": {},
   "source": [
    "**Compare the shape of test vs train**"
   ]
  },
  {
   "cell_type": "code",
   "execution_count": 114,
   "id": "0b4ef90e-fe7a-4a9e-86bd-f9f9dcf12dbd",
   "metadata": {},
   "outputs": [
    {
     "data": {
      "text/plain": [
       "((1253965, 64), (109040, 64))"
      ]
     },
     "execution_count": 114,
     "metadata": {},
     "output_type": "execute_result"
    }
   ],
   "source": [
    "X_test.shape,X_train.shape"
   ]
  }
 ],
 "metadata": {
  "kernelspec": {
   "display_name": "Python 3 (ipykernel)",
   "language": "python",
   "name": "python3"
  },
  "language_info": {
   "codemirror_mode": {
    "name": "ipython",
    "version": 3
   },
   "file_extension": ".py",
   "mimetype": "text/x-python",
   "name": "python",
   "nbconvert_exporter": "python",
   "pygments_lexer": "ipython3",
   "version": "3.10.6"
  },
  "toc": {
   "base_numbering": 1,
   "nav_menu": {},
   "number_sections": true,
   "sideBar": true,
   "skip_h1_title": false,
   "title_cell": "Table of Contents",
   "title_sidebar": "Contents",
   "toc_cell": false,
   "toc_position": {},
   "toc_section_display": true,
   "toc_window_display": false
  }
 },
 "nbformat": 4,
 "nbformat_minor": 5
}
