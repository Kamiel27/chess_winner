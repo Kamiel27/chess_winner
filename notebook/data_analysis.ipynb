{
 "cells": [
  {
   "cell_type": "markdown",
   "id": "2d892ede-00ed-462c-9bbe-2a8f07619304",
   "metadata": {},
   "source": [
    "**Import packages**"
   ]
  },
  {
   "cell_type": "code",
   "execution_count": 335,
   "id": "0950d6c6",
   "metadata": {},
   "outputs": [],
   "source": [
    "import pandas as pd\n",
    "import numpy as np\n",
    "import re\n",
    "import chess\n",
    "\n",
    "from sklearn.neighbors import KNeighborsClassifier\n",
    "from sklearn.pipeline import Pipeline,make_pipeline\n",
    "from sklearn.preprocessing import OneHotEncoder\n",
    "from sklearn.ensemble import RandomForestClassifier,GradientBoostingClassifier\n",
    "from sklearn.model_selection import train_test_split, GridSearchCV\n",
    "from xgboost import XGBClassifier"
   ]
  },
  {
   "cell_type": "markdown",
   "id": "b532d1d7-fd7b-49e8-87cf-7623050d19eb",
   "metadata": {},
   "source": [
    "**Extract from the dataset**"
   ]
  },
  {
   "cell_type": "code",
   "execution_count": 351,
   "id": "eb69869a-67b2-483d-94ca-807f7113153f",
   "metadata": {},
   "outputs": [],
   "source": [
    "data = pd.read_csv('../raw_data/club_games_data.csv')\n",
    "data = data[['white_result','black_result','pgn']]"
   ]
  },
  {
   "cell_type": "markdown",
   "id": "2f9d40a5-a3d5-4a5f-807b-9b0315c700af",
   "metadata": {},
   "source": [
    "**Extract moves list from a PGN**"
   ]
  },
  {
   "cell_type": "code",
   "execution_count": 337,
   "id": "18bf384f",
   "metadata": {},
   "outputs": [],
   "source": [
    "def get_moves(pgn):\n",
    "    # split pgn by line break\n",
    "    splitted = pgn.split('\\n')\n",
    "    # get last element\n",
    "    turns = splitted[len(splitted)-2].strip()\n",
    "    # clean PGN\n",
    "    turns = re.sub('\\{\\[\\%clk [0-9:\\.]+\\]}','', turns)\n",
    "    turns = re.sub(' [0-9]+\\.\\.\\.','', turns)\n",
    "    turns = re.sub('[0-2\\/]+-[0-2\\/]+','', turns)\n",
    "    turns=turns.replace('  ',' ')\n",
    "    # init white and black list\n",
    "    moves = []\n",
    "    # for all turns\n",
    "    for turn in re.split('[0-9]+\\. ', turns):\n",
    "        # extract all moves\n",
    "        if turn:\n",
    "            m = turn.strip().split(' ')\n",
    "            moves.append(m[0])\n",
    "            if len(m)==2:\n",
    "                moves.append(m[1])\n",
    "    return moves"
   ]
  },
  {
   "cell_type": "markdown",
   "id": "39071cc2-811b-42b5-be39-f6b2cdc018f9",
   "metadata": {},
   "source": [
    "**Put pieces on squares and append target**"
   ]
  },
  {
   "cell_type": "code",
   "execution_count": 338,
   "id": "094bbcb5-71b8-4d51-b788-ab52cd2cdd8c",
   "metadata": {},
   "outputs": [],
   "source": [
    "def get_squares(board,target):\n",
    "    squares=[]\n",
    "    for i in range(0,64):\n",
    "        piece = board.piece_at(i)\n",
    "        if piece:\n",
    "            squares.append(piece.piece_type)\n",
    "        else :\n",
    "            squares.append(0)\n",
    "    squares.append(target)\n",
    "    return squares"
   ]
  },
  {
   "cell_type": "markdown",
   "id": "02e44c3f-d967-461c-b227-b124f4ff070b",
   "metadata": {},
   "source": [
    "**Get all positions from a moves list and append target**"
   ]
  },
  {
   "cell_type": "code",
   "execution_count": 339,
   "id": "7587709d-e92b-4932-8702-9fed168bf026",
   "metadata": {},
   "outputs": [],
   "source": [
    "def get_all_positions(moves,target):\n",
    "    all_positions=[]\n",
    "    board = chess.Board()\n",
    "    for index,m in enumerate(moves):\n",
    "        try:\n",
    "            board.push_san(m)\n",
    "            all_positions.append(get_squares(board,target))\n",
    "        except:\n",
    "            do='wrong push'\n",
    "    return all_positions\n",
    "#chess.svg.board(board,size=200)"
   ]
  },
  {
   "cell_type": "markdown",
   "id": "a27ae245-27de-491b-8774-ff69924b515c",
   "metadata": {},
   "source": [
    "**Transform X and Y into a 64 squares dataset**"
   ]
  },
  {
   "cell_type": "code",
   "execution_count": 340,
   "id": "d8040fb1-e33d-4034-8852-28ebcdbd5d76",
   "metadata": {},
   "outputs": [],
   "source": [
    "def transform(X,y,min_moves=5):\n",
    "    # init empty nd array\n",
    "    positions=[]\n",
    "    # for each values in the game dataset\n",
    "    for i in range(len(X)):\n",
    "        # get moves list from pgn\n",
    "        moves = get_moves(X.loc[i, \"pgn\"])\n",
    "        # get target result from y\n",
    "        target = y[i]\n",
    "        # if enough moves\n",
    "        if len(moves)>=min_moves:\n",
    "            positions = positions + get_all_positions(moves,target)\n",
    "    # return a new dataset\n",
    "    return pd.DataFrame.from_dict(positions) "
   ]
  },
  {
   "cell_type": "markdown",
   "id": "4b8cccb4-5f4b-4517-b208-8eb6eae67563",
   "metadata": {},
   "source": [
    "**Keep only finished win/loose game, then shuffle**"
   ]
  },
  {
   "cell_type": "code",
   "execution_count": 342,
   "id": "7bbdd210-7b27-443f-b6ab-b018fce6187b",
   "metadata": {},
   "outputs": [],
   "source": [
    "status = ['timeout','repetition','timevsinsufficient','stalemate','insufficient','agreed','threecheck','kingofthehill','50move']\n",
    "sample = data[(~data['white_result'].isin(status))&(~data['black_result'].isin(status))].sample(frac=1).reset_index(drop=True)"
   ]
  },
  {
   "cell_type": "markdown",
   "id": "c5eae1d0-f3ea-4981-a7cb-38d1087e430c",
   "metadata": {},
   "source": [
    "**Add game result / target**"
   ]
  },
  {
   "cell_type": "code",
   "execution_count": 343,
   "id": "216d8a0f-6116-4afa-8f84-55130e577d99",
   "metadata": {},
   "outputs": [],
   "source": [
    "sample['result'] = sample['white_result'].map(lambda X: 1 if X=='win' else 0) "
   ]
  },
  {
   "cell_type": "markdown",
   "id": "ec3dde2a-2943-4876-aabf-c9ed951f26ac",
   "metadata": {},
   "source": [
    "**Define features and target**"
   ]
  },
  {
   "cell_type": "code",
   "execution_count": 344,
   "id": "e9a74998-fb8d-432f-8033-d858375e78c5",
   "metadata": {},
   "outputs": [],
   "source": [
    "X_game = sample.drop(columns='result')\n",
    "y_game = sample['result']"
   ]
  },
  {
   "cell_type": "markdown",
   "id": "68d1abf4-ed4b-475c-b85b-09ac280ccc9f",
   "metadata": {},
   "source": [
    "**Get a data sample to reduce the preprocessing and modelizing time**"
   ]
  },
  {
   "cell_type": "code",
   "execution_count": 345,
   "id": "d23fe12b-2289-4bf1-b147-37c9744b4cf9",
   "metadata": {},
   "outputs": [],
   "source": [
    "# define the train and test split\n",
    "X_train_game, X_test_game, y_train_game, y_test_game = train_test_split(X_game,y_game,test_size=0.90,random_state=42)\n",
    "# reset index (necessary for png extraction)\n",
    "X_train_game = X_train_game.reset_index(drop=True)\n",
    "y_train_game = y_train_game.reset_index(drop=True)"
   ]
  },
  {
   "cell_type": "markdown",
   "id": "c45bc7d4-fab7-4924-9a52-69ec2d869ed6",
   "metadata": {},
   "source": [
    "**Transform the train dataset into a usable 64 columns dataset**"
   ]
  },
  {
   "cell_type": "code",
   "execution_count": 346,
   "id": "9837c820-f24d-42b6-b6a1-35d5f084db71",
   "metadata": {},
   "outputs": [],
   "source": [
    "df_preprocessed = transform(X_train_game,y_train_game)"
   ]
  },
  {
   "cell_type": "code",
   "execution_count": 347,
   "id": "8f8bbbc6-a0e3-4d5d-a081-75cadc2c497b",
   "metadata": {},
   "outputs": [
    {
     "data": {
      "text/html": [
       "<div>\n",
       "<style scoped>\n",
       "    .dataframe tbody tr th:only-of-type {\n",
       "        vertical-align: middle;\n",
       "    }\n",
       "\n",
       "    .dataframe tbody tr th {\n",
       "        vertical-align: top;\n",
       "    }\n",
       "\n",
       "    .dataframe thead th {\n",
       "        text-align: right;\n",
       "    }\n",
       "</style>\n",
       "<table border=\"1\" class=\"dataframe\">\n",
       "  <thead>\n",
       "    <tr style=\"text-align: right;\">\n",
       "      <th></th>\n",
       "      <th>0</th>\n",
       "      <th>1</th>\n",
       "      <th>2</th>\n",
       "      <th>3</th>\n",
       "      <th>4</th>\n",
       "      <th>5</th>\n",
       "      <th>6</th>\n",
       "      <th>7</th>\n",
       "      <th>8</th>\n",
       "      <th>9</th>\n",
       "      <th>...</th>\n",
       "      <th>55</th>\n",
       "      <th>56</th>\n",
       "      <th>57</th>\n",
       "      <th>58</th>\n",
       "      <th>59</th>\n",
       "      <th>60</th>\n",
       "      <th>61</th>\n",
       "      <th>62</th>\n",
       "      <th>63</th>\n",
       "      <th>64</th>\n",
       "    </tr>\n",
       "  </thead>\n",
       "  <tbody>\n",
       "    <tr>\n",
       "      <th>0</th>\n",
       "      <td>4</td>\n",
       "      <td>2</td>\n",
       "      <td>3</td>\n",
       "      <td>5</td>\n",
       "      <td>6</td>\n",
       "      <td>3</td>\n",
       "      <td>2</td>\n",
       "      <td>4</td>\n",
       "      <td>1</td>\n",
       "      <td>1</td>\n",
       "      <td>...</td>\n",
       "      <td>1</td>\n",
       "      <td>4</td>\n",
       "      <td>2</td>\n",
       "      <td>3</td>\n",
       "      <td>5</td>\n",
       "      <td>6</td>\n",
       "      <td>3</td>\n",
       "      <td>2</td>\n",
       "      <td>4</td>\n",
       "      <td>0</td>\n",
       "    </tr>\n",
       "    <tr>\n",
       "      <th>1</th>\n",
       "      <td>4</td>\n",
       "      <td>2</td>\n",
       "      <td>3</td>\n",
       "      <td>5</td>\n",
       "      <td>6</td>\n",
       "      <td>3</td>\n",
       "      <td>2</td>\n",
       "      <td>4</td>\n",
       "      <td>1</td>\n",
       "      <td>1</td>\n",
       "      <td>...</td>\n",
       "      <td>1</td>\n",
       "      <td>4</td>\n",
       "      <td>2</td>\n",
       "      <td>3</td>\n",
       "      <td>5</td>\n",
       "      <td>6</td>\n",
       "      <td>3</td>\n",
       "      <td>2</td>\n",
       "      <td>4</td>\n",
       "      <td>0</td>\n",
       "    </tr>\n",
       "    <tr>\n",
       "      <th>2</th>\n",
       "      <td>4</td>\n",
       "      <td>2</td>\n",
       "      <td>3</td>\n",
       "      <td>5</td>\n",
       "      <td>6</td>\n",
       "      <td>3</td>\n",
       "      <td>2</td>\n",
       "      <td>4</td>\n",
       "      <td>1</td>\n",
       "      <td>1</td>\n",
       "      <td>...</td>\n",
       "      <td>1</td>\n",
       "      <td>4</td>\n",
       "      <td>2</td>\n",
       "      <td>3</td>\n",
       "      <td>5</td>\n",
       "      <td>6</td>\n",
       "      <td>3</td>\n",
       "      <td>2</td>\n",
       "      <td>4</td>\n",
       "      <td>0</td>\n",
       "    </tr>\n",
       "    <tr>\n",
       "      <th>3</th>\n",
       "      <td>4</td>\n",
       "      <td>2</td>\n",
       "      <td>3</td>\n",
       "      <td>5</td>\n",
       "      <td>6</td>\n",
       "      <td>3</td>\n",
       "      <td>2</td>\n",
       "      <td>4</td>\n",
       "      <td>1</td>\n",
       "      <td>1</td>\n",
       "      <td>...</td>\n",
       "      <td>1</td>\n",
       "      <td>4</td>\n",
       "      <td>2</td>\n",
       "      <td>3</td>\n",
       "      <td>5</td>\n",
       "      <td>6</td>\n",
       "      <td>3</td>\n",
       "      <td>0</td>\n",
       "      <td>4</td>\n",
       "      <td>0</td>\n",
       "    </tr>\n",
       "    <tr>\n",
       "      <th>4</th>\n",
       "      <td>4</td>\n",
       "      <td>0</td>\n",
       "      <td>3</td>\n",
       "      <td>5</td>\n",
       "      <td>6</td>\n",
       "      <td>3</td>\n",
       "      <td>2</td>\n",
       "      <td>4</td>\n",
       "      <td>1</td>\n",
       "      <td>1</td>\n",
       "      <td>...</td>\n",
       "      <td>1</td>\n",
       "      <td>4</td>\n",
       "      <td>2</td>\n",
       "      <td>3</td>\n",
       "      <td>5</td>\n",
       "      <td>6</td>\n",
       "      <td>3</td>\n",
       "      <td>0</td>\n",
       "      <td>4</td>\n",
       "      <td>0</td>\n",
       "    </tr>\n",
       "  </tbody>\n",
       "</table>\n",
       "<p>5 rows × 65 columns</p>\n",
       "</div>"
      ],
      "text/plain": [
       "   0   1   2   3   4   5   6   7   8   9   ...  55  56  57  58  59  60  61  \\\n",
       "0   4   2   3   5   6   3   2   4   1   1  ...   1   4   2   3   5   6   3   \n",
       "1   4   2   3   5   6   3   2   4   1   1  ...   1   4   2   3   5   6   3   \n",
       "2   4   2   3   5   6   3   2   4   1   1  ...   1   4   2   3   5   6   3   \n",
       "3   4   2   3   5   6   3   2   4   1   1  ...   1   4   2   3   5   6   3   \n",
       "4   4   0   3   5   6   3   2   4   1   1  ...   1   4   2   3   5   6   3   \n",
       "\n",
       "   62  63  64  \n",
       "0   2   4   0  \n",
       "1   2   4   0  \n",
       "2   2   4   0  \n",
       "3   0   4   0  \n",
       "4   0   4   0  \n",
       "\n",
       "[5 rows x 65 columns]"
      ]
     },
     "execution_count": 347,
     "metadata": {},
     "output_type": "execute_result"
    }
   ],
   "source": [
    "df_preprocessed.head()"
   ]
  },
  {
   "cell_type": "markdown",
   "id": "8edc7ddb-3656-4510-b5ae-bdd367f38749",
   "metadata": {},
   "source": [
    "**Define features X and target y for the model training**"
   ]
  },
  {
   "cell_type": "code",
   "execution_count": 207,
   "id": "96c3914b-cfc4-4bfc-9cbf-e9df3d3de70c",
   "metadata": {},
   "outputs": [],
   "source": [
    "## define features and target\n",
    "sample = df_preprocessed.sample(frac = 1)\n",
    "X = sample.drop(columns=64)\n",
    "y = sample[64]"
   ]
  },
  {
   "cell_type": "markdown",
   "id": "8687cd8c-1625-4948-8de6-fa66d4a614cf",
   "metadata": {},
   "source": [
    "**Train and test split**"
   ]
  },
  {
   "cell_type": "code",
   "execution_count": 217,
   "id": "ef775d6e-a226-4ae8-9460-5ea28f68c9fa",
   "metadata": {},
   "outputs": [],
   "source": [
    "# define the train and test split\n",
    "X_train, X_test, y_train, y_test= train_test_split(X_encoded,y,test_size=0.70,random_state=42)"
   ]
  },
  {
   "cell_type": "markdown",
   "id": "fc27956a-13f3-4e23-bf68-1d7941ba0900",
   "metadata": {},
   "source": [
    "**Grid search on gradient boosting classifier**"
   ]
  },
  {
   "cell_type": "code",
   "execution_count": 316,
   "id": "78e292dc-7cf0-43de-bc9f-4d7f41c20d21",
   "metadata": {},
   "outputs": [],
   "source": [
    "grid_search = GridSearchCV(\n",
    "    GradientBoostingClassifier(),\n",
    "    param_grid={\n",
    "        'n_estimators':[300],\n",
    "        'max_depth':[12],\n",
    "        'learning_rate':[0.1],\n",
    "        'max_features':[200],\n",
    "    },\n",
    "    cv=5,\n",
    "    verbose=2,\n",
    "    return_train_score=True,\n",
    "    scoring='accuracy')\n",
    "\n",
    "#grid_search.get_params()"
   ]
  },
  {
   "cell_type": "markdown",
   "id": "286375d3-b8d3-4232-b283-6062b9ba9610",
   "metadata": {},
   "source": [
    "**Fit the search and get the best model**"
   ]
  },
  {
   "cell_type": "code",
   "execution_count": 317,
   "id": "5d204693-5466-4017-ab0e-d87d8c8de935",
   "metadata": {},
   "outputs": [
    {
     "name": "stdout",
     "output_type": "stream",
     "text": [
      "Fitting 5 folds for each of 1 candidates, totalling 5 fits\n",
      "[CV] END learning_rate=0.1, max_depth=12, max_features=200, n_estimators=300; total time=26.2min\n",
      "[CV] END learning_rate=0.1, max_depth=12, max_features=200, n_estimators=300; total time= 2.5min\n",
      "[CV] END learning_rate=0.1, max_depth=12, max_features=200, n_estimators=300; total time= 2.5min\n",
      "[CV] END learning_rate=0.1, max_depth=12, max_features=200, n_estimators=300; total time= 2.5min\n",
      "[CV] END learning_rate=0.1, max_depth=12, max_features=200, n_estimators=300; total time= 2.5min\n"
     ]
    },
    {
     "data": {
      "text/plain": [
       "({'learning_rate': 0.1,\n",
       "  'max_depth': 12,\n",
       "  'max_features': 200,\n",
       "  'n_estimators': 300},\n",
       " 0.8624126553887344)"
      ]
     },
     "execution_count": 317,
     "metadata": {},
     "output_type": "execute_result"
    }
   ],
   "source": [
    "grid_search.fit(X_train, y_train)\n",
    "grid_search.best_params_,grid_search.best_score_"
   ]
  },
  {
   "cell_type": "markdown",
   "id": "f02e935f-1923-4134-97b7-bb8b9d78e9e7",
   "metadata": {},
   "source": [
    "**Test the accuracy on test split**"
   ]
  },
  {
   "cell_type": "code",
   "execution_count": 320,
   "id": "6ab512e5-ee1e-4608-9cd5-39f0161afc57",
   "metadata": {},
   "outputs": [
    {
     "data": {
      "text/plain": [
       "0.8763305032097742"
      ]
     },
     "execution_count": 320,
     "metadata": {},
     "output_type": "execute_result"
    }
   ],
   "source": [
    "best_model.score(X_test,y_test)"
   ]
  },
  {
   "cell_type": "markdown",
   "id": "2ad98789-d435-4de3-b093-0ecbe049877e",
   "metadata": {},
   "source": [
    "**Make some predictions on random sample from the test split**"
   ]
  },
  {
   "cell_type": "code",
   "execution_count": 353,
   "id": "4d389ebe-807c-4477-9d31-648869f95d82",
   "metadata": {},
   "outputs": [
    {
     "data": {
      "text/plain": [
       "array([[0.98806922, 0.01193078],\n",
       "       [0.4171383 , 0.5828617 ],\n",
       "       [0.4483136 , 0.5516864 ],\n",
       "       ...,\n",
       "       [0.97529378, 0.02470622],\n",
       "       [0.13888465, 0.86111535],\n",
       "       [0.00500847, 0.99499153]])"
      ]
     },
     "execution_count": 353,
     "metadata": {},
     "output_type": "execute_result"
    }
   ],
   "source": [
    "best_model.predict_proba(X_test.sample(frac=1).iloc[0:1000])"
   ]
  },
  {
   "cell_type": "markdown",
   "id": "ea2cb48b-fccd-4b7b-a255-cc56d51064dd",
   "metadata": {},
   "source": [
    "**Compare the shape of test vs train**"
   ]
  },
  {
   "cell_type": "code",
   "execution_count": 324,
   "id": "0b4ef90e-fe7a-4a9e-86bd-f9f9dcf12dbd",
   "metadata": {},
   "outputs": [
    {
     "data": {
      "text/plain": [
       "((169015, 64), (72434, 64))"
      ]
     },
     "execution_count": 324,
     "metadata": {},
     "output_type": "execute_result"
    }
   ],
   "source": [
    "X_test.shape,X_train.shape"
   ]
  }
 ],
 "metadata": {
  "kernelspec": {
   "display_name": "Python 3 (ipykernel)",
   "language": "python",
   "name": "python3"
  },
  "language_info": {
   "codemirror_mode": {
    "name": "ipython",
    "version": 3
   },
   "file_extension": ".py",
   "mimetype": "text/x-python",
   "name": "python",
   "nbconvert_exporter": "python",
   "pygments_lexer": "ipython3",
   "version": "3.10.6"
  },
  "toc": {
   "base_numbering": 1,
   "nav_menu": {},
   "number_sections": true,
   "sideBar": true,
   "skip_h1_title": false,
   "title_cell": "Table of Contents",
   "title_sidebar": "Contents",
   "toc_cell": false,
   "toc_position": {},
   "toc_section_display": true,
   "toc_window_display": false
  }
 },
 "nbformat": 4,
 "nbformat_minor": 5
}
